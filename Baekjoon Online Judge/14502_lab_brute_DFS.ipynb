{
 "cells": [
  {
   "cell_type": "code",
   "execution_count": 2,
   "metadata": {},
   "outputs": [
    {
     "name": "stdin",
     "output_type": "stream",
     "text": [
      " 7 7\n",
      " 2 0 0 0 1 1 0\n",
      " 0 0 1 0 1 2 0\n",
      " 0 1 1 0 1 0 0\n",
      " 0 1 0 0 0 0 0\n",
      " 0 0 0 0 0 1 1\n",
      " 0 1 0 0 0 0 0\n",
      " 0 1 0 0 0 0 0\n"
     ]
    },
    {
     "name": "stdout",
     "output_type": "stream",
     "text": [
      "27\n"
     ]
    }
   ],
   "source": [
    "n, m = map(int, input().split())\n",
    "a = [list(map(int, input().split())) for _ in range(n)]\n",
    "c = [[False] * m for _ in range(n)]\n",
    "v, safe, virus = [], -3, 100\n",
    "\n",
    "def dfs(x, y):\n",
    "    res = 1\n",
    "    c[x][y] = True\n",
    "    for dx, dy in (-1, 0), (1, 0), (0,-1), (0, 1):\n",
    "        nx, ny = x+dx, y+dy\n",
    "        if nx < 0 or nx >= n or ny < 0 or ny >= m :\n",
    "            continue\n",
    "        if not (c[nx][ny] or a[nx][ny]):\n",
    "            res += dfs(nx, ny)\n",
    "    return res\n",
    "\n",
    "def solve(wall, x, y):\n",
    "    global virus, c\n",
    "    if wall == 3:\n",
    "        cnt = 0\n",
    "        c = [[False]*m for _ in range(n)]\n",
    "        for i, j in v:\n",
    "            cnt += dfs(i, j)\n",
    "        virus = min(virus, cnt)\n",
    "        return\n",
    "    for i in range(x, n):\n",
    "        k = y if i == x else 0\n",
    "        for j in range(k, m):\n",
    "            if a[i][j] == 0:\n",
    "                a[i][j] = 1\n",
    "                solve(wall+1, i, j+1)\n",
    "                a[i][j] = 0\n",
    "\n",
    "for i in range(n):\n",
    "    for j in range(m):\n",
    "        if a[i][j] != 1:\n",
    "            safe += 1\n",
    "        if a[i][j] == 2:\n",
    "            v.append([i, j])\n",
    "\n",
    "solve(0,0,0)\n",
    "print(safe - virus)"
   ]
  }
 ],
 "metadata": {
  "kernelspec": {
   "display_name": "Python 3",
   "language": "python",
   "name": "python3"
  },
  "language_info": {
   "codemirror_mode": {
    "name": "ipython",
    "version": 3
   },
   "file_extension": ".py",
   "mimetype": "text/x-python",
   "name": "python",
   "nbconvert_exporter": "python",
   "pygments_lexer": "ipython3",
   "version": "3.7.3"
  }
 },
 "nbformat": 4,
 "nbformat_minor": 4
}
