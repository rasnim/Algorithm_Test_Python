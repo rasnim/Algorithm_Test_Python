{
 "cells": [
  {
   "cell_type": "code",
   "execution_count": 25,
   "metadata": {},
   "outputs": [
    {
     "name": "stdin",
     "output_type": "stream",
     "text": [
      " 7\n",
      " 6\n",
      " 1 2\n",
      " 2 3\n",
      " 1 5\n",
      " 5 2\n",
      " 5 6\n",
      " 4 7\n"
     ]
    },
    {
     "name": "stdout",
     "output_type": "stream",
     "text": [
      "4\n"
     ]
    }
   ],
   "source": [
    "N = int(input())\n",
    "V = int(input())\n",
    "\n",
    "arr = [[0] * (N+1) for _ in range (N+1)]\n",
    "\n",
    "for _ in range(V):\n",
    "    link = list(map(int, input().split()))\n",
    "    \n",
    "    arr[link[0]][link[1]] = 1\n",
    "    arr[link[1]][link[0]] = 1    \n",
    "    \n",
    "\n",
    "stack = []\n",
    "virus_node = []\n",
    "def dfs_virus(current_node, arr):\n",
    "    stack.append(current_node)\n",
    "    n = stack.pop()\n",
    "    virus_node.append(n)\n",
    "    for i in range(1, N+1):\n",
    "        if arr[n][i] == 1 and i not in virus_node:\n",
    "            dfs_virus(i, arr)\n",
    "                \n",
    "                \n",
    "\n",
    "    \n",
    "dfs_virus(1, arr)\n",
    "print(len(virus_node)-1)"
   ]
  }
 ],
 "metadata": {
  "kernelspec": {
   "display_name": "Python 3",
   "language": "python",
   "name": "python3"
  },
  "language_info": {
   "codemirror_mode": {
    "name": "ipython",
    "version": 3
   },
   "file_extension": ".py",
   "mimetype": "text/x-python",
   "name": "python",
   "nbconvert_exporter": "python",
   "pygments_lexer": "ipython3",
   "version": "3.7.3"
  }
 },
 "nbformat": 4,
 "nbformat_minor": 4
}
