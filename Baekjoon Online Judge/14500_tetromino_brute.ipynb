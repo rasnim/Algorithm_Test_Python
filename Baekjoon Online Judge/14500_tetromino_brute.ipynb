{
 "cells": [
  {
   "cell_type": "code",
   "execution_count": 3,
   "metadata": {},
   "outputs": [
    {
     "name": "stdin",
     "output_type": "stream",
     "text": [
      " 5 5\n",
      " 1 2 3 4 5\n",
      " 5 4 3 2 1\n",
      " 2 3 4 5 6\n",
      " 6 5 4 3 2\n",
      " 1 2 1 2 1\n"
     ]
    },
    {
     "name": "stdout",
     "output_type": "stream",
     "text": [
      "19\n"
     ]
    }
   ],
   "source": [
    "n, m = map(int, input().split())\n",
    "a = [list(map(int, input().split())) for _ in range(n)]\n",
    "\n",
    "# 모든 모양 (0,0) 기준\n",
    "b = [\n",
    "    [(0,1), (1,0), (1,1)],\n",
    "    \n",
    "    [(0,1), (0,2), (0,3)],\n",
    "    [(1,0), (2,0), (3,0)],\n",
    "    \n",
    "    [(0,1), (0,2), (1,0)],\n",
    "    [(0,1), (0,2), (-1,2)],    \n",
    "    [(1,0), (1,1), (1,2)],\n",
    "    [(0,1), (0,2), (1,2)],\n",
    "    [(1,0), (2,0), (2,1)],\n",
    "    [(0,1), (1,1), (2,1)],\n",
    "    [(0,1), (1,0), (2,0)],\n",
    "    [(1,0), (2,0), (2,-1)],\n",
    "    \n",
    "    [(1,0), (1,1), (2,1)],\n",
    "    [(0,1), (1,0), (-1,1)],\n",
    "    [(0,1), (1,0), (1,-1)],\n",
    "    [(0,1), (1,1), (1,2)],\n",
    "    \n",
    "    [(0,1), (0,2), (1,1)],\n",
    "    [(1,0), (1,1), (1,-1)],\n",
    "    [(1,0), (2,0), (1,-1)],\n",
    "    [(1,0), (1,1), (2,0)]\n",
    "]\n",
    "\n",
    "def tetromino(x, y):\n",
    "    global ans\n",
    "    for i in range(19):\n",
    "        s = a[x][y]\n",
    "        for j in range(3):\n",
    "            try:\n",
    "                nx = x+b[i][j][0]\n",
    "                ny = y+b[i][j][1]\n",
    "                s += a[nx][ny]\n",
    "            except IndexError:\n",
    "                continue\n",
    "        ans = max(ans, s)\n",
    "\n",
    "def solve():\n",
    "    for i in range(n):\n",
    "        for j in range(m):\n",
    "            tetromino(i, j)\n",
    "\n",
    "ans = 0\n",
    "solve()\n",
    "print(ans)"
   ]
  }
 ],
 "metadata": {
  "kernelspec": {
   "display_name": "Python 3",
   "language": "python",
   "name": "python3"
  },
  "language_info": {
   "codemirror_mode": {
    "name": "ipython",
    "version": 3
   },
   "file_extension": ".py",
   "mimetype": "text/x-python",
   "name": "python",
   "nbconvert_exporter": "python",
   "pygments_lexer": "ipython3",
   "version": "3.7.3"
  }
 },
 "nbformat": 4,
 "nbformat_minor": 4
}
