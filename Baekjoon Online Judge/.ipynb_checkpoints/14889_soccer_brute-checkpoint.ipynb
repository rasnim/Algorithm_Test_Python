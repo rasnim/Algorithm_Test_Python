{
 "cells": [
  {
   "cell_type": "code",
   "execution_count": 10,
   "metadata": {},
   "outputs": [
    {
     "name": "stdin",
     "output_type": "stream",
     "text": [
      " 4\n",
      " 0 1 2 3\n",
      " 4 0 5 6\n",
      " 7 1 0 2\n",
      " 3 4 5 0\n"
     ]
    },
    {
     "name": "stdout",
     "output_type": "stream",
     "text": [
      "0\n"
     ]
    }
   ],
   "source": [
    "n = int(input())\n",
    "a = [list(map(int, input().split())) for _ in range(n)]\n",
    "c = [False] * n\n",
    "ans = 1e9\n",
    "\n",
    "def solve(cnt, idx):\n",
    "    global ans\n",
    "    if idx == n:\n",
    "        return\n",
    "    if cnt == n//2:\n",
    "        s1, s2 = 0, 0\n",
    "        for i in range(n):\n",
    "            for j in range(n):\n",
    "                if c[i] and c[j]:\n",
    "                    s1 += a[i][j]\n",
    "                if not c[i] and not c[j]:\n",
    "                    s2 += a[i][j]\n",
    "        ans = min(ans, abs(s1-s2))\n",
    "        return\n",
    "    c[idx] = True\n",
    "    solve(cnt+1, idx+1)\n",
    "    c[idx] = False\n",
    "    solve(cnt, idx+1)\n",
    "\n",
    "solve(0,0)\n",
    "print(ans)"
   ]
  }
 ],
 "metadata": {
  "kernelspec": {
   "display_name": "Python 3",
   "language": "python",
   "name": "python3"
  },
  "language_info": {
   "codemirror_mode": {
    "name": "ipython",
    "version": 3
   },
   "file_extension": ".py",
   "mimetype": "text/x-python",
   "name": "python",
   "nbconvert_exporter": "python",
   "pygments_lexer": "ipython3",
   "version": "3.7.3"
  }
 },
 "nbformat": 4,
 "nbformat_minor": 4
}
