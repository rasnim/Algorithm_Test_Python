{
 "cells": [
  {
   "cell_type": "code",
   "execution_count": 1,
   "metadata": {},
   "outputs": [
    {
     "name": "stdin",
     "output_type": "stream",
     "text": [
      " 6\n",
      " 3\n",
      " 3 4\n",
      " 2 5\n",
      " 5 3\n",
      " 3\n",
      " 3 D\n",
      " 15 L\n",
      " 17 D\n"
     ]
    },
    {
     "name": "stdout",
     "output_type": "stream",
     "text": [
      "9\n"
     ]
    }
   ],
   "source": [
    "dx, dy = [0, 0, 1, -1], [1, -1, 0, 0]\n",
    "l, r = [3,2, 0, 1], [2, 3, 1, 0]\n",
    "\n",
    "def solve():\n",
    "    x, y, z, d, ans = 0, 0, 0, 0, 0\n",
    "    a[0][0] = 2\n",
    "    queue = []\n",
    "    queue.append([0,0])\n",
    "    \n",
    "    while True:\n",
    "        x, y = x+dx[d], y+dy[d]\n",
    "        ans += 1        \n",
    "        if x<0 or x>=N or y<0 or y>=N or a[x][y] == 2:\n",
    "            print(ans)\n",
    "            return\n",
    "        if not a[x][y]:\n",
    "            nx, ny = queue.pop(0)\n",
    "            a[nx][ny] = 0\n",
    "        a[x][y] = 2\n",
    "        queue.append([x, y])\n",
    "        t, c = b[z]\n",
    "        if ans == int(t):\n",
    "            if c == 'L':\n",
    "                d = l[d]\n",
    "            else:\n",
    "                d = r[d]\n",
    "            z = (z+1)%L\n",
    "\n",
    "N = int(input())\n",
    "K = int(input())\n",
    "\n",
    "a = [[0] * N for _ in range(N)]\n",
    "\n",
    "for _ in range(K):\n",
    "    u, v = map(int, input().split())\n",
    "    a[u-1][v-1] = 1\n",
    "    \n",
    "L = int(input())\n",
    "\n",
    "b = [list(input().split()) for _ in range(L)]\n",
    "\n",
    "solve()"
   ]
  }
 ],
 "metadata": {
  "kernelspec": {
   "display_name": "Python 3",
   "language": "python",
   "name": "python3"
  },
  "language_info": {
   "codemirror_mode": {
    "name": "ipython",
    "version": 3
   },
   "file_extension": ".py",
   "mimetype": "text/x-python",
   "name": "python",
   "nbconvert_exporter": "python",
   "pygments_lexer": "ipython3",
   "version": "3.7.3"
  }
 },
 "nbformat": 4,
 "nbformat_minor": 4
}
