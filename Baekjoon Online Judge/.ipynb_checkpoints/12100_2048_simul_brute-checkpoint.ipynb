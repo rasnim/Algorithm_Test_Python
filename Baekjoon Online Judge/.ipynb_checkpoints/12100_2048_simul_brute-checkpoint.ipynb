{
 "cells": [
  {
   "cell_type": "code",
   "execution_count": 12,
   "metadata": {},
   "outputs": [
    {
     "name": "stdin",
     "output_type": "stream",
     "text": [
      " 3\n",
      " 2 2 2\n",
      " 4 4 4\n",
      " 8 8 8\n"
     ]
    },
    {
     "name": "stdout",
     "output_type": "stream",
     "text": [
      "16\n"
     ]
    }
   ],
   "source": [
    "N = int(input())\n",
    "a = [list(map(int, input().split())) for _ in range(N)]\n",
    "ans, queue = 0, []\n",
    "\n",
    "\n",
    "def get(i, j):\n",
    "    if a[i][j]:\n",
    "        queue.append(a[i][j])\n",
    "        a[i][j] = 0\n",
    "        \n",
    "def merge(i, j, di, dj):\n",
    "    while queue:\n",
    "        x = queue.pop(0)\n",
    "        if not a[i][j]:\n",
    "            a[i][j] = x\n",
    "        elif a[i][j] == x:\n",
    "            a[i][j] = x*2\n",
    "            i, j = i+di, j+dj\n",
    "        else:\n",
    "            i, j = i+di, j+dj\n",
    "            a[i][j] = x\n",
    "\n",
    "def move(k):\n",
    "    if k == 0:\n",
    "        for j in range(N):\n",
    "            for i in range(N):\n",
    "                get(i, j)\n",
    "            merge(0, j, 1, 0)\n",
    "            \n",
    "    elif k == 1:\n",
    "        for j in range(N):\n",
    "            for i in range(N-1, -1, -1):\n",
    "                get(i, j)\n",
    "            merge(N-1, j, -1, 0)\n",
    "            \n",
    "    elif k == 2:\n",
    "        for i in range(N):\n",
    "            for j in range(N):\n",
    "                get(i, j)\n",
    "            merge(i, 0, 0, 1)\n",
    "    \n",
    "    else:\n",
    "        for i in range(N):\n",
    "            for j in range(N-1, -1, -1):\n",
    "                get(i, j)\n",
    "            merge(i, N-1, 0, -1)\n",
    "    \n",
    "def solve(cnt):\n",
    "    global a, ans\n",
    "    if cnt == 5:\n",
    "        for i in range(N):\n",
    "            ans = max(ans, max(a[i]))\n",
    "        return\n",
    "    b = [x[:] for x in a]\n",
    "    for k in range(4):\n",
    "        move(k)\n",
    "        solve(cnt+1)\n",
    "        a = [x[:] for x in b]\n",
    "        \n",
    "solve(0)\n",
    "print(ans)"
   ]
  }
 ],
 "metadata": {
  "kernelspec": {
   "display_name": "Python 3",
   "language": "python",
   "name": "python3"
  },
  "language_info": {
   "codemirror_mode": {
    "name": "ipython",
    "version": 3
   },
   "file_extension": ".py",
   "mimetype": "text/x-python",
   "name": "python",
   "nbconvert_exporter": "python",
   "pygments_lexer": "ipython3",
   "version": "3.7.3"
  }
 },
 "nbformat": 4,
 "nbformat_minor": 4
}
