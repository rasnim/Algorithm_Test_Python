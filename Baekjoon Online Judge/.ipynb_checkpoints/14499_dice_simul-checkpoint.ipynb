{
 "cells": [
  {
   "cell_type": "code",
   "execution_count": 3,
   "metadata": {},
   "outputs": [
    {
     "name": "stdin",
     "output_type": "stream",
     "text": [
      " 4 2 0 0 8\n",
      " 0 2\n",
      " 3 4\n",
      " 5 6\n",
      " 7 8\n",
      " 4 4 4 1 3 3 3 2\n"
     ]
    },
    {
     "name": "stdout",
     "output_type": "stream",
     "text": [
      "0\n",
      "0\n",
      "3\n",
      "0\n",
      "0\n",
      "8\n",
      "6\n",
      "3\n"
     ]
    }
   ],
   "source": [
    "direct = [[2, 1, 5, 0, 4, 3], \n",
    "          [3, 1, 0, 5, 4, 2], \n",
    "          [4, 0, 2, 3, 5, 1], \n",
    "          [1, 5, 2, 3, 0, 4]]\n",
    "\n",
    "dx, dy = [0, 0, -1, 1], [1, -1, 0, 0]\n",
    "n, m, x, y, k = map(int, input().split())\n",
    "a = [list(map(int, input().split())) for _ in range(n)]\n",
    "c = list(map(int, input().split()))\n",
    "dice, temp = [0] * 6, [0] * 6\n",
    "\n",
    "for i in range(k):\n",
    "    d = c[i]-1\n",
    "    x, y = x+dx[d], y+dy[d]\n",
    "    if x<0 or x>=n or y<0 or y>=m:\n",
    "        x, y = x-dx[d], y-dy[d]\n",
    "        continue\n",
    "    for j in range(6):\n",
    "        temp[j] = dice[j]\n",
    "    for j in range(6):\n",
    "        dice[j] = temp[direct[d][j]]\n",
    "    if a[x][y]:\n",
    "        dice[5] = a[x][y]\n",
    "        a[x][y] = 0\n",
    "    else:\n",
    "        a[x][y] = dice[5]\n",
    "\n",
    "    print(dice[0])"
   ]
  }
 ],
 "metadata": {
  "kernelspec": {
   "display_name": "Python 3",
   "language": "python",
   "name": "python3"
  },
  "language_info": {
   "codemirror_mode": {
    "name": "ipython",
    "version": 3
   },
   "file_extension": ".py",
   "mimetype": "text/x-python",
   "name": "python",
   "nbconvert_exporter": "python",
   "pygments_lexer": "ipython3",
   "version": "3.7.3"
  }
 },
 "nbformat": 4,
 "nbformat_minor": 4
}
