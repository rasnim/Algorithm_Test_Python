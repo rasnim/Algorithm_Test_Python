{
 "cells": [
  {
   "cell_type": "code",
   "execution_count": 3,
   "metadata": {},
   "outputs": [
    {
     "name": "stdin",
     "output_type": "stream",
     "text": [
      " 7\n",
      " 3 10\n",
      " 5 20\n",
      " 1 10\n",
      " 1 20\n",
      " 2 15\n",
      " 4 40\n",
      " 2 200\n"
     ]
    },
    {
     "name": "stdout",
     "output_type": "stream",
     "text": [
      "45\n"
     ]
    }
   ],
   "source": [
    "ans = 0\n",
    "n = int(input())\n",
    "t, p = [0] * (n+1), [0] * (n+1)\n",
    "\n",
    "for i in range(1, n+1):\n",
    "    t[i], p[i] = map(int, input().split())\n",
    "    \n",
    "def solve(day, profit):\n",
    "    global ans\n",
    "    if day == n+1:\n",
    "        if ans < profit:\n",
    "            ans = profit\n",
    "        return\n",
    "    if day > n+1:\n",
    "        return\n",
    "    solve(day+t[day], profit+p[day])\n",
    "    solve(day+1, profit)\n",
    "\n",
    "\n",
    "solve(1, 0)\n",
    "print(ans)"
   ]
  }
 ],
 "metadata": {
  "kernelspec": {
   "display_name": "Python 3",
   "language": "python",
   "name": "python3"
  },
  "language_info": {
   "codemirror_mode": {
    "name": "ipython",
    "version": 3
   },
   "file_extension": ".py",
   "mimetype": "text/x-python",
   "name": "python",
   "nbconvert_exporter": "python",
   "pygments_lexer": "ipython3",
   "version": "3.7.3"
  }
 },
 "nbformat": 4,
 "nbformat_minor": 4
}
