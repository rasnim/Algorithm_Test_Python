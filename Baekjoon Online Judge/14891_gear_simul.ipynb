{
 "cells": [
  {
   "cell_type": "code",
   "execution_count": null,
   "metadata": {},
   "outputs": [],
   "source": [
    "def rotate(n, d):\n",
    "    t = [0] * 8\n",
    "    if d == 1:\n",
    "        for i in range(8):\n",
    "            t[(i+1)%8] = a[n][i]\n",
    "    else:\n",
    "        for i in range(8):\n",
    "            t[i] = a[n][(i+1)%8]\n",
    "    for i in range(8):\n",
    "        a[n][i] = t[i]\n",
    "\n",
    "def solve():\n",
    "    for _ in range(int(input())):\n",
    "        n, d = map(int, input().split())\n",
    "        direct = [0] * 4\n",
    "        direct[n-1] = d\n",
    "        for i in range(n-1, 3):\n",
    "            if a[i][2] != a[i+1][6]:\n",
    "                direct[i+1] = -direct[i]\n",
    "        for i in range(n-1, 0, -1):\n",
    "            if a[i][6] != a[i-1][2]:\n",
    "                direct[i-1] = -direct[i]\n",
    "        for i in range(4):\n",
    "            if direct[i]:\n",
    "                rotate(i, direct[i])\n",
    "\n",
    "\n",
    "a =[list(map(int, input().strip())) for _ in range(4)]\n",
    "\n",
    "solve()\n",
    "\n",
    "ans = 0\n",
    "\n",
    "for i in range(4):\n",
    "    if a[i][0] == '1':\n",
    "        ans += (1<<i)\n",
    "print(ans)"
   ]
  }
 ],
 "metadata": {
  "kernelspec": {
   "display_name": "Python 3",
   "language": "python",
   "name": "python3"
  },
  "language_info": {
   "codemirror_mode": {
    "name": "ipython",
    "version": 3
   },
   "file_extension": ".py",
   "mimetype": "text/x-python",
   "name": "python",
   "nbconvert_exporter": "python",
   "pygments_lexer": "ipython3",
   "version": "3.7.3"
  }
 },
 "nbformat": 4,
 "nbformat_minor": 4
}
