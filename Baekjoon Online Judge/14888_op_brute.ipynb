{
 "cells": [
  {
   "cell_type": "code",
   "execution_count": 1,
   "metadata": {},
   "outputs": [
    {
     "name": "stdin",
     "output_type": "stream",
     "text": [
      " 2\n",
      " 5 6\n",
      " 0 0 1 0\n"
     ]
    },
    {
     "name": "stdout",
     "output_type": "stream",
     "text": [
      "30\n",
      "30\n"
     ]
    }
   ],
   "source": [
    "n = int(input())\n",
    "a = list(map(int, input().split()))\n",
    "op = list(map(int, input().split()))\n",
    "\n",
    "mx, mn = -1e9, 1e9\n",
    "\n",
    "def solve(index, ans, add, sub, mul, div):\n",
    "    global mx, mn\n",
    "    if index == n:\n",
    "        mx = max(mx, ans)\n",
    "        mn = min(mn, ans)\n",
    "        return\n",
    "    if add:\n",
    "        solve(index+1, ans+a[index], add-1, sub, mul, div)\n",
    "    if sub:\n",
    "        solve(index+1, ans-a[index], add, sub-1, mul, div)\n",
    "    if mul:\n",
    "        solve(index+1, ans*a[index], add, sub, mul-1, div)\n",
    "    if div:\n",
    "        solve(index+1, ans//a[index] if ans>0 else -((-ans)//a[index]), add, sub, mul, div-1)\n",
    "\n",
    "solve(1, a[0], op[0], op[1], op[2], op[3])\n",
    "print('{}\\n{}'.format(mx, mn))"
   ]
  }
 ],
 "metadata": {
  "kernelspec": {
   "display_name": "Python 3",
   "language": "python",
   "name": "python3"
  },
  "language_info": {
   "codemirror_mode": {
    "name": "ipython",
    "version": 3
   },
   "file_extension": ".py",
   "mimetype": "text/x-python",
   "name": "python",
   "nbconvert_exporter": "python",
   "pygments_lexer": "ipython3",
   "version": "3.7.3"
  }
 },
 "nbformat": 4,
 "nbformat_minor": 4
}
