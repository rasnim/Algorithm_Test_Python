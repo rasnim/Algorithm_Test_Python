{
 "cells": [
  {
   "cell_type": "code",
   "execution_count": 1,
   "metadata": {},
   "outputs": [
    {
     "name": "stdin",
     "output_type": "stream",
     "text": [
      " 6 2\n",
      " 3 3 3 3 3 3 \n",
      " 2 3 3 3 3 3\n",
      " 2 2 2 3 2 3\n",
      " 1 1 1 2 2 2\n",
      " 1 1 1 3 3 1\n",
      " 1 1 2 3 3 2\n"
     ]
    },
    {
     "name": "stdout",
     "output_type": "stream",
     "text": [
      "3\n"
     ]
    }
   ],
   "source": [
    "def slope(i, c):\n",
    "    global ans\n",
    "    cnt = 1\n",
    "    for j in range(0, n-1):\n",
    "        d = a[i][j+1]-a[i][j] if c else a[j+1][i] - a[j][i]\n",
    "        if d == 0:\n",
    "            cnt += 1\n",
    "        elif d == 1 and cnt >= l:\n",
    "            cnt = 1\n",
    "        elif d == -1 and cnt >= 0:\n",
    "            cnt = -l + 1\n",
    "        else:\n",
    "            return\n",
    "    if cnt >= 0:\n",
    "        ans += 1\n",
    "\n",
    "def solve():\n",
    "    for i in range(n):\n",
    "        slope(i, 1)\n",
    "        slope(i, 0)\n",
    "    print(ans)\n",
    "\n",
    "n, l = map(int, input().split())\n",
    "a = [list(map(int, input().split())) for _ in range(n)]\n",
    "ans = 0\n",
    "solve()"
   ]
  }
 ],
 "metadata": {
  "kernelspec": {
   "display_name": "Python 3",
   "language": "python",
   "name": "python3"
  },
  "language_info": {
   "codemirror_mode": {
    "name": "ipython",
    "version": 3
   },
   "file_extension": ".py",
   "mimetype": "text/x-python",
   "name": "python",
   "nbconvert_exporter": "python",
   "pygments_lexer": "ipython3",
   "version": "3.7.3"
  }
 },
 "nbformat": 4,
 "nbformat_minor": 4
}
