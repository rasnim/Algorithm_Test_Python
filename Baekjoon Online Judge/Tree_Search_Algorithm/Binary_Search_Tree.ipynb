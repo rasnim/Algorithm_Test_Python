{
 "cells": [
  {
   "cell_type": "code",
   "execution_count": 2,
   "metadata": {},
   "outputs": [],
   "source": [
    "class Node(object):\n",
    "    def __init__(self, data):\n",
    "        self.data = data\n",
    "        self.left = self.right = None\n",
    "    \n",
    "class BinarySearchTree(object):\n",
    "    def __init__(self):\n",
    "        self.root = None\n",
    "    \n",
    "    # insert\n",
    "    def insert(self, data):\n",
    "        self.root = self._insert_value(self.root, data)\n",
    "        return self.root is not None\n",
    "    \n",
    "    def _insert_value(self, node, data):\n",
    "        if node is None:\n",
    "            node = Node(data)\n",
    "        else:\n",
    "            if data <= node.data:\n",
    "                node.left = self._insert_value(node.left, data)\n",
    "            else:\n",
    "                node.right = self._insert_value(node.right, data)\n",
    "        return node\n",
    "    \n",
    "    # search\n",
    "    def find(self, key):\n",
    "        return self._find_value(self.root, key)\n",
    "    \n",
    "    def _find_value(self, root, key):\n",
    "        if root is None or root.data == key:\n",
    "            return root is not None\n",
    "        elif key < root.data:\n",
    "            return self._find_value(root.left, key)\n",
    "        else:\n",
    "            return self._find_value(root.right, key)\n",
    "        \n",
    "    # delete\n",
    "    def delete(self, key):\n",
    "        self.root, deleted = self._delete_value(self.root, key)\n",
    "        return deleted\n",
    "    \n",
    "    def _delete_value(self, node, key):\n",
    "        if node is None:\n",
    "            return node, False\n",
    "        \n",
    "        deleted = False\n",
    "        if key == node.data:\n",
    "            deleted = True\n",
    "            if node.left and node.right:\n",
    "                parent, child = node, node.right\n",
    "                while child.left is not None:\n",
    "                    parent, child = child, child.left\n",
    "                child.left = node.left\n",
    "                if parent != child:\n",
    "                    parent.left = child.right\n",
    "                    child.right = node.right\n",
    "            elif node.left or node.right:\n",
    "                node = node.left or node.right\n",
    "            else:\n",
    "                node = None\n",
    "        \n",
    "        elif key < node.data:\n",
    "            node.left, deleted = self._delete_value(node.left, key)\n",
    "        else:\n",
    "            node.right, deleted = self._delete_value(node.right, key)\n",
    "        return node, deleted"
   ]
  },
  {
   "cell_type": "code",
   "execution_count": 3,
   "metadata": {},
   "outputs": [],
   "source": [
    "array = [40, 4, 34, 45, 14, 55, 48, 13, 15, 49, 47]\n",
    "\n",
    "bst = BinarySearchTree()\n",
    "for x in array:\n",
    "    bst.insert(x)"
   ]
  },
  {
   "cell_type": "code",
   "execution_count": 4,
   "metadata": {},
   "outputs": [
    {
     "name": "stdout",
     "output_type": "stream",
     "text": [
      "True\n"
     ]
    }
   ],
   "source": [
    "print(bst.find(15))"
   ]
  }
 ],
 "metadata": {
  "kernelspec": {
   "display_name": "Python 3",
   "language": "python",
   "name": "python3"
  },
  "language_info": {
   "codemirror_mode": {
    "name": "ipython",
    "version": 3
   },
   "file_extension": ".py",
   "mimetype": "text/x-python",
   "name": "python",
   "nbconvert_exporter": "python",
   "pygments_lexer": "ipython3",
   "version": "3.7.3"
  }
 },
 "nbformat": 4,
 "nbformat_minor": 4
}
