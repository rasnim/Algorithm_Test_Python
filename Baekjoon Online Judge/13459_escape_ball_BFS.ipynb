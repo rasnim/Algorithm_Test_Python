{
 "cells": [
  {
   "cell_type": "code",
   "execution_count": 3,
   "metadata": {},
   "outputs": [
    {
     "name": "stdin",
     "output_type": "stream",
     "text": [
      " 5 5\n",
      " #####\n",
      " #..B#\n",
      " #.#.#\n",
      " #RO.#\n",
      " #####\n"
     ]
    },
    {
     "name": "stdout",
     "output_type": "stream",
     "text": [
      "1\n"
     ]
    }
   ],
   "source": [
    "N, M = map(int, input().split())\n",
    "arr = [list(input().strip()) for _ in range(N)]\n",
    "check = [[[[False] * M for _ in range(N)] for _ in range(M)] for _ in range(N)]\n",
    "\n",
    "dx, dy = [-1, 0, 1, 0], [0, 1, 0, -1]\n",
    "\n",
    "\n",
    "queue = []\n",
    "\n",
    "def init():\n",
    "    _rx, _ry, _bx, _by = [0] * 4\n",
    "    for i in range(N):\n",
    "        for j in range(M):\n",
    "            if arr[i][j] == 'R':\n",
    "                _rx, _ry = i, j\n",
    "            elif arr[i][j] == 'B':\n",
    "                _bx, _by = i, j\n",
    "    queue.append((_rx, _ry, _bx, _by, 0))    \n",
    "    check[_rx][_ry][_bx][_by] = True\n",
    "\n",
    "def move(_x, _y, _dx, _dy, _c):\n",
    "    while arr[_x + _dx][_y + _dy] != '#' and arr[_x][_y] != 'O':\n",
    "        _x += _dx\n",
    "        _y += _dy\n",
    "        _c += 1\n",
    "    return _x, _y, _c\n",
    "\n",
    "def bfs():\n",
    "    while queue:\n",
    "        rx, ry, bx, by, d = queue.pop(0)\n",
    "        if d >= 10:\n",
    "            break\n",
    "        for i in range(4):\n",
    "            nrx, nry, rc = move(rx, ry, dx[i], dy[i], 0)\n",
    "            nbx, nby, bc = move(bx, by, dx[i], dy[i], 0)\n",
    "            if arr[nbx][nby] == 'O':\n",
    "                continue\n",
    "            if arr[nrx][nry] == 'O':\n",
    "                print(1)\n",
    "                return\n",
    "            if nrx == nbx and nry == nby:\n",
    "                if rc > bc:\n",
    "                    nrx, nry = nrx-dx[i], nry-dy[i]\n",
    "                else:\n",
    "                    nbx, nby = nbx-dx[i], nby-dy[i]\n",
    "            if not check[nrx][nry][nbx][nby]:\n",
    "                check[nrx][nry][nbx][nby] = True\n",
    "                queue.append((nrx, nry, nbx, nby, d+1))\n",
    "    print(0)\n",
    "\n",
    "init()\n",
    "bfs()"
   ]
  }
 ],
 "metadata": {
  "kernelspec": {
   "display_name": "Python 3",
   "language": "python",
   "name": "python3"
  },
  "language_info": {
   "codemirror_mode": {
    "name": "ipython",
    "version": 3
   },
   "file_extension": ".py",
   "mimetype": "text/x-python",
   "name": "python",
   "nbconvert_exporter": "python",
   "pygments_lexer": "ipython3",
   "version": "3.7.3"
  }
 },
 "nbformat": 4,
 "nbformat_minor": 4
}
