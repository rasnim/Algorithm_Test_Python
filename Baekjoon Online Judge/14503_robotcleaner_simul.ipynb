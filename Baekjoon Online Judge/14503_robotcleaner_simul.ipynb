{
 "cells": [
  {
   "cell_type": "code",
   "execution_count": 2,
   "metadata": {},
   "outputs": [
    {
     "name": "stdin",
     "output_type": "stream",
     "text": [
      " 3 3\n",
      " 1 1 0\n",
      " 1 1 1\n",
      " 1 0 1\n",
      " 1 1 1\n"
     ]
    },
    {
     "name": "stdout",
     "output_type": "stream",
     "text": [
      "1\n"
     ]
    }
   ],
   "source": [
    "n, m = map(int, input().split())\n",
    "x, y, d = map(int, input().split())\n",
    "a = [list(map(int, input().split())) for _ in range(n)]\n",
    "dx, dy = [-1, 0, 1, 0], [0, 1, 0, -1]\n",
    "a[x][y] = 2\n",
    "\n",
    "def solve(x, y, d, ans):\n",
    "    while True:\n",
    "        c = False\n",
    "        for k in range(4):\n",
    "            nd = (d+3)%4\n",
    "            nx, ny = x+dx[nd], y+dy[nd]\n",
    "            d = nd\n",
    "            if not a[nx][ny]:\n",
    "                a[nx][ny] = 2\n",
    "                ans += 1\n",
    "                x, y = nx, ny\n",
    "                c = True\n",
    "                break\n",
    "        if not c:\n",
    "            if a[x-dx[d]][y-dy[d]] == 1:\n",
    "                return ans\n",
    "            else:\n",
    "                x, y = x-dx[d], y-dy[d]\n",
    "\n",
    "print(solve(x, y, d, 1))"
   ]
  }
 ],
 "metadata": {
  "kernelspec": {
   "display_name": "Python 3",
   "language": "python",
   "name": "python3"
  },
  "language_info": {
   "codemirror_mode": {
    "name": "ipython",
    "version": 3
   },
   "file_extension": ".py",
   "mimetype": "text/x-python",
   "name": "python",
   "nbconvert_exporter": "python",
   "pygments_lexer": "ipython3",
   "version": "3.7.3"
  }
 },
 "nbformat": 4,
 "nbformat_minor": 4
}
