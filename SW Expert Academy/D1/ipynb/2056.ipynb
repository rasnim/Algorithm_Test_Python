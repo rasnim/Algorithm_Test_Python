{
 "cells": [
  {
   "cell_type": "code",
   "execution_count": 1,
   "metadata": {},
   "outputs": [
    {
     "name": "stdin",
     "output_type": "stream",
     "text": [
      " 5\n"
     ]
    }
   ],
   "source": [
    "T = int(input())"
   ]
  },
  {
   "cell_type": "code",
   "execution_count": 2,
   "metadata": {},
   "outputs": [
    {
     "name": "stdin",
     "output_type": "stream",
     "text": [
      " 22220228\n"
     ]
    },
    {
     "name": "stdout",
     "output_type": "stream",
     "text": [
      "#1 2222/02/28\n"
     ]
    },
    {
     "name": "stdin",
     "output_type": "stream",
     "text": [
      " 20150002\n"
     ]
    },
    {
     "name": "stdout",
     "output_type": "stream",
     "text": [
      "#2 -1\n"
     ]
    },
    {
     "name": "stdin",
     "output_type": "stream",
     "text": [
      " 01010101\n"
     ]
    },
    {
     "name": "stdout",
     "output_type": "stream",
     "text": [
      "#3 0101/01/01\n"
     ]
    },
    {
     "name": "stdin",
     "output_type": "stream",
     "text": [
      " 20140230\n"
     ]
    },
    {
     "name": "stdout",
     "output_type": "stream",
     "text": [
      "#4 -1\n"
     ]
    },
    {
     "name": "stdin",
     "output_type": "stream",
     "text": [
      " 11111111\n"
     ]
    },
    {
     "name": "stdout",
     "output_type": "stream",
     "text": [
      "#5 1111/11/11\n"
     ]
    }
   ],
   "source": [
    "for t in range(1, T+1):\n",
    "    n = input()\n",
    "    y = n[0] + n[1] + n[2] + n[3]\n",
    "    m = n[4] + n[5]\n",
    "    d = n[6] + n[7]\n",
    "    \n",
    "    sm = int(m)\n",
    "    sd = int(d)\n",
    "    \n",
    "    if sm > 12 or sm < 1:\n",
    "        print(f'#{t} -1')\n",
    "        \n",
    "    else:\n",
    "        if sm == 2:\n",
    "            if sd > 0 and sd < 29:\n",
    "                print(f'#{t} {y}/{m}/{d}')\n",
    "            else:\n",
    "                print(f'#{t} -1')\n",
    "        \n",
    "        elif sm <= 7:\n",
    "            if sm % 2 == 1:\n",
    "                if sd > 0 and sd < 32:\n",
    "                    print(f'#{t} {y}/{m}/{d}')\n",
    "                else:\n",
    "                    print(f'#{t} -1')\n",
    "            else:\n",
    "                if sd > 0 and sd < 31:\n",
    "                    print(f'#{t} {y}/{m}/{d}')\n",
    "                else:\n",
    "                    print(f'#{t} -1')\n",
    "                    \n",
    "        elif sm >= 8:\n",
    "            if sm % 2 == 1:\n",
    "                if sd > 0 and sd < 31:\n",
    "                    print(f'#{t} {y}/{m}/{d}')\n",
    "                else:\n",
    "                    print(f'#{t} -1')\n",
    "            else:\n",
    "                if sd > 0 and sd < 32:\n",
    "                    print(f'#{t} {y}/{m}/{d}')\n",
    "                else:\n",
    "                    print(f'#{t} -1')"
   ]
  }
 ],
 "metadata": {
  "kernelspec": {
   "display_name": "Python 3",
   "language": "python",
   "name": "python3"
  },
  "language_info": {
   "codemirror_mode": {
    "name": "ipython",
    "version": 3
   },
   "file_extension": ".py",
   "mimetype": "text/x-python",
   "name": "python",
   "nbconvert_exporter": "python",
   "pygments_lexer": "ipython3",
   "version": "3.8.3"
  }
 },
 "nbformat": 4,
 "nbformat_minor": 4
}
