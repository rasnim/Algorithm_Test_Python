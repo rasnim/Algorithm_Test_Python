{
 "cells": [
  {
   "cell_type": "code",
   "execution_count": null,
   "metadata": {},
   "outputs": [],
   "source": [
    "def charging(locA,locB,BC):\n",
    "    tempA, tempB = [-1], [-1]\n",
    " \n",
    "    for i in range(len(BC)):\n",
    "        x,y,dis,_ = BC[i]\n",
    "        if dis>=abs(x-locA[0]) + abs(y-locA[1]): tempA.append(i)\n",
    "        if dis>=abs(x-locB[0]) + abs(y-locB[1]): tempB.append(i)\n",
    " \n",
    "    MAX = -1\n",
    "    for i in tempA:\n",
    "        for j in tempB:\n",
    "            if i==-1 and j==-1: temp = 0\n",
    "            elif i==-1: temp = BC[j][3]\n",
    "            elif j==-1: temp = BC[i][3]\n",
    "            elif i==j: temp = BC[i][3]\n",
    "            else: temp = BC[i][3] + BC[j][3]\n",
    " \n",
    "            if temp>MAX: MAX = temp\n",
    "    return MAX\n",
    " \n",
    "T = int(input())\n",
    "Dir = [(0,0), (-1,0), (0,1), (1,0), (0,-1)]\n",
    " \n",
    "for test_case in range(1,T+1):\n",
    "    M, A = map(int, input().split())\n",
    "    locA, locB = [1,1], [10,10]\n",
    "    userA, userB = list(map(int,input().split())), list(map(int,input().split()))\n",
    "    userA.insert(0,0)\n",
    "    userB.insert(0,0)\n",
    "    BC = [ list(map(int, input().split())) for _ in range(A) ]\n",
    "    for temp in BC: temp[0],temp[1] = temp[1],temp[0]\n",
    "    BC.sort(key = lambda x:x[3], reverse=True)\n",
    " \n",
    "    answer = 0\n",
    "    for i in range(len(userA)):\n",
    "        ai, aj = Dir[userA[i]]\n",
    "        bi, bj = Dir[userB[i]]\n",
    "        locA[0],locA[1] = locA[0]+ai,locA[1]+aj\n",
    "        locB[0],locB[1] = locB[0]+bi,locB[1]+bj\n",
    " \n",
    "        answer+=charging(locA,locB,BC)\n",
    " \n",
    "    print(\"#{} {}\".format(test_case, answer))"
   ]
  }
 ],
 "metadata": {
  "kernelspec": {
   "display_name": "Python 3",
   "language": "python",
   "name": "python3"
  },
  "language_info": {
   "codemirror_mode": {
    "name": "ipython",
    "version": 3
   },
   "file_extension": ".py",
   "mimetype": "text/x-python",
   "name": "python",
   "nbconvert_exporter": "python",
   "pygments_lexer": "ipython3",
   "version": "3.7.3"
  }
 },
 "nbformat": 4,
 "nbformat_minor": 4
}
