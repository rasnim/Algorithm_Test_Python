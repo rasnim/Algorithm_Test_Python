{
 "cells": [
  {
   "cell_type": "code",
   "execution_count": null,
   "metadata": {},
   "outputs": [],
   "source": [
    "dx = [0, 1, 0, -1]\n",
    "dy = [1, 0, -1, 0]\n",
    " \n",
    " \n",
    "def breed(cell, t, ori):\n",
    "    global point, temp, temp_point\n",
    "    x, y = cell\n",
    "    for i in range(4):\n",
    "        nx = x + dx[i]\n",
    "        ny = y + dy[i]\n",
    "        if 0 <= nx < 750 and 0<= ny < 750:\n",
    "            if point[nx][ny] == 0:\n",
    "                cells[(nx, ny)] = (ori, ori)\n",
    "                point[nx][ny] = t\n",
    "            elif point[nx][ny] == t:\n",
    "                a, b = cells[(nx, ny)]\n",
    "                if b < ori:\n",
    "                    cells[(nx, ny)] = (a, ori)\n",
    "    return\n",
    " \n",
    " \n",
    "T = int(input())\n",
    "for t in range(1, T + 1):\n",
    "    N, M, K = map(int, input().split())\n",
    "    board = [list(map(int, input().split())) for _ in range(N)]\n",
    "    cells = {}\n",
    "    point = [[0] * 750 for _ in range(750)]\n",
    "    for i in range(N):\n",
    "        for j in range(M):\n",
    "            if board[i][j] != 0:\n",
    "                cells[(i+K, j+K)] = (board[i][j], board[i][j])\n",
    "                point[i+K][j+K] = 1\n",
    "    time = 0\n",
    "    while time < K:\n",
    "        time += 1\n",
    "        temp = []\n",
    "        for i in list(cells.keys()):\n",
    "            a, b = cells[i]\n",
    "            a -= 1\n",
    "            cells[i] = (a, b)\n",
    "            if a == -1:\n",
    "                breed(i, time, b)\n",
    "            if b + a == 0:\n",
    "                temp.append(i)\n",
    "        for i in temp:\n",
    "            del cells[i]\n",
    "    # print(cells)\n",
    "    print(\"#{} {}\".format(t, len(cells)))"
   ]
  }
 ],
 "metadata": {
  "kernelspec": {
   "display_name": "Python 3",
   "language": "python",
   "name": "python3"
  },
  "language_info": {
   "codemirror_mode": {
    "name": "ipython",
    "version": 3
   },
   "file_extension": ".py",
   "mimetype": "text/x-python",
   "name": "python",
   "nbconvert_exporter": "python",
   "pygments_lexer": "ipython3",
   "version": "3.7.3"
  }
 },
 "nbformat": 4,
 "nbformat_minor": 4
}
