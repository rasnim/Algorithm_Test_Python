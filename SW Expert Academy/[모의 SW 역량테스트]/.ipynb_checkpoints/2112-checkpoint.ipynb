{
 "cells": [
  {
   "cell_type": "code",
   "execution_count": null,
   "metadata": {},
   "outputs": [],
   "source": [
    "def f(n, N, p, l, arr):\n",
    "    global res\n",
    "    if n == N:\n",
    "        f2(p[:], arr, 0)\n",
    "        f2(p[:], arr, 1)\n",
    "    elif res != 10000000:\n",
    "        return\n",
    "    else:\n",
    "        for i in range(d):\n",
    "            if l<i:\n",
    "                p[n] = i\n",
    "                f(n+1, N, p, i, arr)\n",
    " \n",
    "def f2(p, arr, num):\n",
    "    global res\n",
    "    copied_arr = [arr[i][:] for i in range(d)]\n",
    "    for r in p:\n",
    "        copied_arr[r] = [str(num)]*w\n",
    "    arr2 = list(map(list, zip(*copied_arr)))\n",
    "    for i in range(w):\n",
    "        line = ''.join(arr2[i])\n",
    "        if '0' * k in line:\n",
    "            continue\n",
    "        elif '1' * k in line:\n",
    "            continue\n",
    "        else:\n",
    "            return\n",
    "    res = min(res, len(p))\n",
    " \n",
    "for t in range(1, int(input())+1):\n",
    "    d, w, k = map(int, input().split())\n",
    "    arr = [list(input().split()) for _ in range(d)]\n",
    " \n",
    "    res = 10000000\n",
    "    for i in range(0, d+1):\n",
    "        p = [0]*i\n",
    "        f(0, i, p, -1, arr)\n",
    "    print('#{} {}'.format(t, res))"
   ]
  }
 ],
 "metadata": {
  "kernelspec": {
   "display_name": "Python 3",
   "language": "python",
   "name": "python3"
  },
  "language_info": {
   "codemirror_mode": {
    "name": "ipython",
    "version": 3
   },
   "file_extension": ".py",
   "mimetype": "text/x-python",
   "name": "python",
   "nbconvert_exporter": "python",
   "pygments_lexer": "ipython3",
   "version": "3.7.3"
  }
 },
 "nbformat": 4,
 "nbformat_minor": 4
}
