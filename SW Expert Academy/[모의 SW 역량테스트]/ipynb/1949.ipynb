{
 "cells": [
  {
   "cell_type": "code",
   "execution_count": 5,
   "metadata": {},
   "outputs": [
    {
     "name": "stdin",
     "output_type": "stream",
     "text": [
      " 1\n",
      " 5 1\n",
      " 9 3 2 3 2\n",
      " 6 3 1 7 5\n",
      " 3 4 8 9 9\n",
      " 2 3 7 7 7\n",
      " 7 6 5 5 8\n"
     ]
    },
    {
     "name": "stdout",
     "output_type": "stream",
     "text": [
      "#1 6\n"
     ]
    }
   ],
   "source": [
    "dx = [0, 1, 0, -1]\n",
    "dy = [1, 0, -1, 0]\n",
    "\n",
    "def dfs(y, x, cnt, check):\n",
    "    global ans\n",
    "    if cnt > ans:\n",
    "        ans = cnt\n",
    "        \n",
    "    visited[y][x] = 1\n",
    "    \n",
    "    for i in range(4):\n",
    "        ny = y + dy[i]\n",
    "        nx = x + dx[i]\n",
    "        if not (0 <= ny < n and 0 <= nx < n):\n",
    "            continue\n",
    "        elif visited[ny][nx]:\n",
    "            continue\n",
    "        else:\n",
    "            if a[y][x] > a[ny][nx]:\n",
    "                dfs(ny, nx, cnt+1, check)\n",
    "            elif a[y][x] > a[ny][nx] - k and check:\n",
    "                old = a[ny][nx]\n",
    "                a[ny][nx] = a[y][x] - 1\n",
    "                dfs(ny, nx, cnt+1, 0)\n",
    "                a[ny][nx] = old\n",
    "    visited[y][x] = 0\n",
    "\n",
    "T = int(input())\n",
    "for t in range(1, T+1):\n",
    "    n, k = map(int, input().split())\n",
    "    a = [list(map(int, input().split())) for _ in range(n)]\n",
    "    \n",
    "    v = []\n",
    "    max_num = 0\n",
    "    visited = [[0]*n for _ in range(n)]\n",
    "    \n",
    "    for i in range(n):\n",
    "        for j in range(n):\n",
    "            if max_num < a[i][j]:\n",
    "                max_num = a[i][j]\n",
    "    \n",
    "    for i in range(n):\n",
    "        for j in range(n):\n",
    "            if a[i][j] == max_num:\n",
    "                v.append([i, j])\n",
    "                \n",
    "    ans = 0\n",
    "    for i in v:\n",
    "        dfs(i[0], i[1], 1, 1)\n",
    "    \n",
    "    print('#{} {}'.format(t, ans))"
   ]
  },
  {
   "cell_type": "code",
   "execution_count": 0,
   "metadata": {},
   "outputs": [],
   "source": []
  }
 ],
 "metadata": {
  "kernelspec": {
   "display_name": "Python 3",
   "language": "python",
   "name": "python3"
  },
  "language_info": {
   "codemirror_mode": {
    "name": "ipython",
    "version": 3
   },
   "file_extension": ".py",
   "mimetype": "text/x-python",
   "name": "python",
   "nbconvert_exporter": "python",
   "pygments_lexer": "ipython3",
   "version": "3.7.3"
  }
 },
 "nbformat": 4,
 "nbformat_minor": 4
}