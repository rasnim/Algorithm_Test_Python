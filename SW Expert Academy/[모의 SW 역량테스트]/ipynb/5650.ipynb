{
 "cells": [
  {
   "cell_type": "code",
   "execution_count": null,
   "metadata": {},
   "outputs": [],
   "source": [
    "def f(i, j, x):\n",
    "    global maxV\n",
    "    point = 0\n",
    "    ni, nj = i, j\n",
    "    while 1:\n",
    "        ni = ni + d[x][0]\n",
    "        nj = nj + d[x][1]\n",
    "        if 0 <= ni < N and 0 <= nj < N:\n",
    "            if pinball[ni][nj] == -1:\n",
    "                break\n",
    "            if ni == i and nj == j:\n",
    "                break\n",
    "            if 1 <= pinball[ni][nj] <= 5:\n",
    "                point += 1\n",
    "                x = wall[pinball[ni][nj]-1][x]\n",
    "            elif 6 <= pinball[ni][nj] <= 10:\n",
    "                for n in range(len(wormhole)):\n",
    "                    if wormhole[n][2] == pinball[ni][nj]:\n",
    "                        if wormhole[n][0] != ni or wormhole[n][1] != nj:\n",
    "                            ni = wormhole[n][0]\n",
    "                            nj = wormhole[n][1]\n",
    "                            break\n",
    "        else:\n",
    "            point += 1\n",
    "            if ni < 0:\n",
    "                x = 1\n",
    "            elif ni >= N:\n",
    "                x = 0\n",
    "            elif nj < 0:\n",
    "                x = 3\n",
    "            elif nj >= N:\n",
    "                x = 2\n",
    " \n",
    "    if maxV < point:\n",
    "        maxV = point\n",
    " \n",
    " \n",
    "T = int(input())\n",
    "wall = [[1, 3, 0, 2], [3, 0, 1, 2], [2, 0, 3, 1], [1, 2, 3, 0], [1, 0, 3, 2]]\n",
    "d = [[-1, 0], [1, 0], [0, -1], [0, 1]] \n",
    "for tc in range(1, T+1):\n",
    "    N = int(input())\n",
    "    pinball = [list(map(int, input().split())) for _ in range(N)]\n",
    "    wormhole = []\n",
    "    for i in range(N):\n",
    "        for j in range(N):\n",
    "            if  6 <= pinball[i][j] <= 10:\n",
    "                wormhole.append([i, j, pinball[i][j]])\n",
    " \n",
    "    maxV = -1\n",
    "    for i in range(N):\n",
    "        for j in range(N):\n",
    "            for x in range(4):\n",
    "                if pinball[i][j] == 0:\n",
    "                    f(i, j, x)\n",
    "    print('#{} {}'.format (tc, maxV))"
   ]
  }
 ],
 "metadata": {
  "kernelspec": {
   "display_name": "Python 3",
   "language": "python",
   "name": "python3"
  },
  "language_info": {
   "codemirror_mode": {
    "name": "ipython",
    "version": 3
   },
   "file_extension": ".py",
   "mimetype": "text/x-python",
   "name": "python",
   "nbconvert_exporter": "python",
   "pygments_lexer": "ipython3",
   "version": "3.7.3"
  }
 },
 "nbformat": 4,
 "nbformat_minor": 4
}
