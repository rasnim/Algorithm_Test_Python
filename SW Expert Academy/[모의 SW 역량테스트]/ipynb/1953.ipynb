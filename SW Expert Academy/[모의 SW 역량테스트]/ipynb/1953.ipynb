{
 "cells": [
  {
   "cell_type": "code",
   "execution_count": null,
   "metadata": {},
   "outputs": [],
   "source": [
    "case_num = int(input())\n",
    " \n",
    "dx = [-1, 0, 0, 1]\n",
    "dy = [0, -1, 1, 0]\n",
    " \n",
    "tunnels = {\n",
    "    1: [0, 1, 2, 3],\n",
    "    2: [0, 3],\n",
    "    3: [1, 2],\n",
    "    4: [0, 2],\n",
    "    5: [3, 2],\n",
    "    6: [3, 1],\n",
    "    7: [0, 1]\n",
    "}\n",
    " \n",
    " \n",
    "def check_range(x, y):\n",
    "    return 0 <= x < height and 0 <= y < width\n",
    " \n",
    " \n",
    "def dfs(x, y, ug, route):\n",
    "    for dir in tunnels[ug[x][y]]:\n",
    "        new_x = x + dx[dir]\n",
    "        new_y = y + dy[dir]\n",
    " \n",
    "        if len(route) < time and (new_x, new_y) not in route and check_range(new_x, new_y) and ug[new_x][new_y]:\n",
    "            if (3 - dir) in tunnels[ug[new_x][new_y]]:\n",
    "                route.append((new_x, new_y))\n",
    "                dfs(new_x, new_y, ug, route)\n",
    "                route.pop()\n",
    "    for p in route:\n",
    "        if p not in answers:\n",
    "            answers.append(p)\n",
    " \n",
    " \n",
    "for case in range(1, case_num + 1):\n",
    "    height, width, x, y, time = map(int, input().split())\n",
    "    underground = [list(map(int, input().split())) for _ in range(height)]\n",
    "    answers = []\n",
    "    dfs(x, y, underground, [(x, y)])\n",
    "    print(\"#\" + str(case), end=\" \")\n",
    "    print(len(answers))"
   ]
  }
 ],
 "metadata": {
  "kernelspec": {
   "display_name": "Python 3",
   "language": "python",
   "name": "python3"
  },
  "language_info": {
   "codemirror_mode": {
    "name": "ipython",
    "version": 3
   },
   "file_extension": ".py",
   "mimetype": "text/x-python",
   "name": "python",
   "nbconvert_exporter": "python",
   "pygments_lexer": "ipython3",
   "version": "3.7.3"
  }
 },
 "nbformat": 4,
 "nbformat_minor": 4
}
