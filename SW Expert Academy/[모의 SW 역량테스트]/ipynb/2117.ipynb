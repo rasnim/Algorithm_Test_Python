{
 "cells": [
  {
   "cell_type": "code",
   "execution_count": null,
   "metadata": {},
   "outputs": [],
   "source": [
    "def check(x1,y1):\n",
    "    global MAX\n",
    "    for i in range(1, N+2):\n",
    "        cost =  (i * i) + (i - 1) * (i - 1)\n",
    "        cnt = 0\n",
    "        for x2, y2 in home:\n",
    "            if abs(x1-x2) + abs(y1-y2) <= i-1:\n",
    "                cost -= B\n",
    "                cnt += 1\n",
    "        if cost <= 0:\n",
    "            if MAX < cnt:\n",
    "                MAX = cnt\n",
    "T = int(input())\n",
    "for tc in range(T):\n",
    "    N, B = map(int, input().split())\n",
    "    M = [list(map(int, input().split())) for _ in range(N)]\n",
    "    home = []\n",
    "    for i in range(N):\n",
    "        for j in range(N):\n",
    "            if M[i][j]:\n",
    "                home.append((i,j))\n",
    "    MAX = -1\n",
    "    for i in range(N):\n",
    "        for j in range(N):\n",
    "            check(i,j)\n",
    "    print('#{} {}'.format(tc+1, MAX))"
   ]
  }
 ],
 "metadata": {
  "kernelspec": {
   "display_name": "Python 3",
   "language": "python",
   "name": "python3"
  },
  "language_info": {
   "codemirror_mode": {
    "name": "ipython",
    "version": 3
   },
   "file_extension": ".py",
   "mimetype": "text/x-python",
   "name": "python",
   "nbconvert_exporter": "python",
   "pygments_lexer": "ipython3",
   "version": "3.7.3"
  }
 },
 "nbformat": 4,
 "nbformat_minor": 4
}
