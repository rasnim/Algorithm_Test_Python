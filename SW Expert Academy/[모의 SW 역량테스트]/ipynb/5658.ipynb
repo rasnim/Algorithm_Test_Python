{
 "cells": [
  {
   "cell_type": "code",
   "execution_count": 10,
   "metadata": {},
   "outputs": [
    {
     "name": "stdin",
     "output_type": "stream",
     "text": [
      " 1\n",
      " 12 10\n",
      " 1B3B3B81F75E\n"
     ]
    },
    {
     "name": "stdout",
     "output_type": "stream",
     "text": [
      "#1 503\n"
     ]
    }
   ],
   "source": [
    "T = int(input())\n",
    "\n",
    "for t in range(1, T+1):\n",
    "    n, k = map(int, input().split())\n",
    "    \n",
    "    arr = input()\n",
    "    per_one = int(n/4)\n",
    "    tmp = arr\n",
    "    all_numbers = set()\n",
    "    for i in range(n):\n",
    "        for j in range(4):\n",
    "            all_numbers.add(tmp[per_one * j : per_one * (j+1) ])\n",
    "        tmp = tmp[n-1] + tmp[:n-1]\n",
    "    \n",
    "    numbs = []\n",
    "    for i in all_numbers:\n",
    "        numbs.append(int(i, 16))\n",
    "    numbs = sorted(numbs)[::-1]\n",
    "    print('#%d'%t, numbs[k-1])"
   ]
  }
 ],
 "metadata": {
  "kernelspec": {
   "display_name": "Python 3",
   "language": "python",
   "name": "python3"
  },
  "language_info": {
   "codemirror_mode": {
    "name": "ipython",
    "version": 3
   },
   "file_extension": ".py",
   "mimetype": "text/x-python",
   "name": "python",
   "nbconvert_exporter": "python",
   "pygments_lexer": "ipython3",
   "version": "3.7.3"
  }
 },
 "nbformat": 4,
 "nbformat_minor": 4
}
