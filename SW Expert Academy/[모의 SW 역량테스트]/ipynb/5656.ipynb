{
 "cells": [
  {
   "cell_type": "code",
   "execution_count": 4,
   "metadata": {},
   "outputs": [
    {
     "name": "stdin",
     "output_type": "stream",
     "text": [
      " 1\n",
      " 3 10 10\n",
      " 0 0 0 0 0 0 0 0 0 0\n",
      " 1 0 1 0 1 0 0 0 0 0\n",
      " 1 0 3 0 1 1 0 0 0 1\n",
      " 1 1 1 0 1 2 0 0 0 9\n",
      " 1 1 4 0 1 1 0 0 1 1\n",
      " 1 1 4 1 1 1 2 1 1 1\n",
      " 1 1 5 1 1 1 1 2 1 1\n",
      " 1 1 6 1 1 1 1 1 2 1\n",
      " 1 1 1 1 1 1 1 1 1 5\n",
      " 1 1 7 1 1 1 1 1 1 1\n"
     ]
    },
    {
     "name": "stdout",
     "output_type": "stream",
     "text": [
      "#1 0\n"
     ]
    }
   ],
   "source": [
    "dx = [0, 1, 0, -1]\n",
    "dy = [1, 0, -1, 0]\n",
    " \n",
    " \n",
    "def dfs(column, depth, output):\n",
    "    global result\n",
    " \n",
    "    if depth == N+1:\n",
    "        number = 0\n",
    "        for i in range(H):\n",
    "            for j in range(W):\n",
    "                if output[i][j] != 0:\n",
    "                    number += 1\n",
    " \n",
    "        if number < result:\n",
    "            result = number\n",
    " \n",
    "        return\n",
    " \n",
    "    temp1 = [tmp[:] for tmp in output]\n",
    "    queue = []\n",
    " \n",
    "    for i in range(H):\n",
    "        if temp1[i][column] != 0:\n",
    "            queue.append((i, column, temp1[i][column]))\n",
    "            break\n",
    " \n",
    "    while len(queue):\n",
    "        q = queue.pop(0)\n",
    "        temp1[q[0]][q[1]] = 0\n",
    " \n",
    "        for k in range(q[2]):\n",
    "            for i in range(4):\n",
    "                new_x = q[0] + k * dx[i]\n",
    "                new_y = q[1] + k * dy[i]\n",
    " \n",
    "                if 0 <= new_x < H and 0 <= new_y < W and temp1[new_x][new_y] != 0:\n",
    "                    queue.append((new_x, new_y, temp1[new_x][new_y]))\n",
    " \n",
    "    # temp2에 싹 정리해서 보내기\n",
    "    temp2 = [[0 for _ in range(W)] for _ in range(H)]\n",
    "    for j in range(W):\n",
    "        temp3 = []\n",
    "        for i in range(H):\n",
    "            if temp1[i][j] != 0:\n",
    "                temp3.append(temp1[i][j])\n",
    " \n",
    "        for i in range(H-1, H-1-len(temp3), -1):\n",
    "            temp2[i][j] = temp3.pop(-1)\n",
    " \n",
    "    for j in range(W):\n",
    "        dfs(j, depth+1, temp2)\n",
    " \n",
    " \n",
    "T = int(input())\n",
    "for test_case in range(1, T+1):\n",
    "    N, W, H = map(int, input().split())\n",
    "    matrix = [list(map(int, input().split())) for _ in range(H)]\n",
    "    result = 0xfffffff\n",
    " \n",
    "    for j in range(W):\n",
    "        dfs(j, 1, matrix)\n",
    " \n",
    "    print('#{} {}'.format(test_case, result))"
   ]
  }
 ],
 "metadata": {
  "kernelspec": {
   "display_name": "Python 3",
   "language": "python",
   "name": "python3"
  },
  "language_info": {
   "codemirror_mode": {
    "name": "ipython",
    "version": 3
   },
   "file_extension": ".py",
   "mimetype": "text/x-python",
   "name": "python",
   "nbconvert_exporter": "python",
   "pygments_lexer": "ipython3",
   "version": "3.7.3"
  }
 },
 "nbformat": 4,
 "nbformat_minor": 4
}
