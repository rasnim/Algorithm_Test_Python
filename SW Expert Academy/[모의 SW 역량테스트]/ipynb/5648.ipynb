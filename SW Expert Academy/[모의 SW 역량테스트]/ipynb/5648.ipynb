{
 "cells": [
  {
   "cell_type": "code",
   "execution_count": null,
   "metadata": {},
   "outputs": [],
   "source": [
    "T=int(input())\n",
    " \n",
    "for case in range(T):\n",
    "    N=int(input())\n",
    "    ele={}\n",
    "    for _ in range(N):\n",
    "        x,y,dir,K=map(int,input().split())\n",
    "        ele[(y,x)]=[dir,K]\n",
    " \n",
    "    dy=[0.5,-0.5,0,0]\n",
    "    dx=[0,0,-0.5,0.5]\n",
    "    answer=0\n",
    " \n",
    "    for loop in range(4000):\n",
    "        if len(ele)<2:\n",
    "            break\n",
    "        move={}\n",
    "        for yx,dK in ele.items():\n",
    "            cy,cx,dir,K=yx[0],yx[1],dK[0],dK[1]\n",
    "            ny=cy+dy[dir]\n",
    "            nx=cx+dx[dir]\n",
    "            if ny<-1000 or ny>=1000 or nx<-1000 or nx>=1000:\n",
    "                continue\n",
    "            if (ny,nx) in move:\n",
    "                answer+=K+move[(ny,nx)][1]\n",
    "                move[(ny,nx)][1]=0\n",
    "            else:\n",
    "                move[(ny,nx)]=[dir,K]\n",
    " \n",
    "        ele={}\n",
    "        for add_ele,data in move.items():\n",
    "            if move[add_ele][1]>0:\n",
    "                ele[add_ele]=data\n",
    " \n",
    "    print(\"#\"+str(case+1),answer)"
   ]
  }
 ],
 "metadata": {
  "kernelspec": {
   "display_name": "Python 3",
   "language": "python",
   "name": "python3"
  },
  "language_info": {
   "codemirror_mode": {
    "name": "ipython",
    "version": 3
   },
   "file_extension": ".py",
   "mimetype": "text/x-python",
   "name": "python",
   "nbconvert_exporter": "python",
   "pygments_lexer": "ipython3",
   "version": "3.7.3"
  }
 },
 "nbformat": 4,
 "nbformat_minor": 4
}
