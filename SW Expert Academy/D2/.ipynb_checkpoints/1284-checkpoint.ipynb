{
 "cells": [
  {
   "cell_type": "code",
   "execution_count": 1,
   "metadata": {},
   "outputs": [
    {
     "name": "stdin",
     "output_type": "stream",
     "text": [
      " 2\n",
      " 9 100 20 3 10\n"
     ]
    },
    {
     "name": "stdout",
     "output_type": "stream",
     "text": [
      "#1 90\n"
     ]
    },
    {
     "name": "stdin",
     "output_type": "stream",
     "text": [
      " 8 300 100 10 250\n"
     ]
    },
    {
     "name": "stdout",
     "output_type": "stream",
     "text": [
      "#2 1800\n"
     ]
    }
   ],
   "source": [
    "def company_a(p, w):\n",
    "    result = p * w\n",
    "    return result\n",
    "\n",
    "def company_b(q, r, s, w):\n",
    "    if w <= r:\n",
    "        result = q\n",
    "    else:\n",
    "        result = q + ((w-r)*s)\n",
    "    return result\n",
    "\n",
    "T = int(input())\n",
    "\n",
    "for t in range(1, T+1):\n",
    "    \n",
    "    p, q, r, s, w = map(int, input().split())\n",
    "    \n",
    "    \n",
    "    a_result = company_a(p, w)\n",
    "    b_result = company_b(q, r, s, w)    \n",
    "    \n",
    "    print('#%d'%t, min(a_result, b_result)) "
   ]
  }
 ],
 "metadata": {
  "kernelspec": {
   "display_name": "Python 3",
   "language": "python",
   "name": "python3"
  },
  "language_info": {
   "codemirror_mode": {
    "name": "ipython",
    "version": 3
   },
   "file_extension": ".py",
   "mimetype": "text/x-python",
   "name": "python",
   "nbconvert_exporter": "python",
   "pygments_lexer": "ipython3",
   "version": "3.7.3"
  }
 },
 "nbformat": 4,
 "nbformat_minor": 4
}
