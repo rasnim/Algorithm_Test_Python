{
 "cells": [
  {
   "cell_type": "code",
   "execution_count": 20,
   "metadata": {},
   "outputs": [
    {
     "name": "stdin",
     "output_type": "stream",
     "text": [
      " 1\n",
      " 5 3\n",
      " 1 0 0 1 0\n",
      " 1 1 0 1 1\n",
      " 1 0 1 1 1\n",
      " 0 1 1 0 1\n",
      " 0 1 1 1 0\n"
     ]
    },
    {
     "name": "stdout",
     "output_type": "stream",
     "text": [
      "down 4\n",
      "right 2\n",
      "#1 6\n"
     ]
    }
   ],
   "source": [
    "T = int(input())\n",
    "\n",
    "def godown(a, N, K):\n",
    "    count = 0\n",
    "    for i in range(N):\n",
    "        for j in range(N):\n",
    "            if a [i][j] == 1:\n",
    "                cnt = 0\n",
    "                \n",
    "                # 예외처리가 중요\n",
    "                for y in range(i, N):\n",
    "                    if i == 0:\n",
    "                        if a[y][j] == 1:\n",
    "                            cnt += 1\n",
    "                        else:\n",
    "                            break\n",
    "                    else:\n",
    "                        if a[y][j] == 1 and a[i-1][j] == 0:\n",
    "                            cnt += 1\n",
    "                        else:\n",
    "                            break\n",
    "                            \n",
    "                if cnt == K:\n",
    "                    count += 1\n",
    "    return count\n",
    "                    \n",
    "def goright(a, N, K):\n",
    "    count = 0\n",
    "    for i in range(N):\n",
    "        for j in range(N):\n",
    "            if a [i][j] == 1:\n",
    "                cnt = 0\n",
    "                \n",
    "                # 예외처리가 중요\n",
    "                for x in range(j, N):\n",
    "                    if j == 0:\n",
    "                        if a[i][x] == 1:\n",
    "                            cnt += 1\n",
    "                        else:\n",
    "                            break\n",
    "                    else:\n",
    "                        if a[i][x] == 1 and a[i][j-1] == 0:\n",
    "                            cnt += 1\n",
    "                        else:\n",
    "                            break\n",
    "                        \n",
    "                if cnt == K:\n",
    "                    count += 1\n",
    "    return count\n",
    "    \n",
    "def count(a, N, K):\n",
    "    count = 0\n",
    "    count_down = godown(a, N, K)\n",
    "    count_right = goright(a, N, K)\n",
    "    \n",
    "    count = count_down + count_right\n",
    "    return count\n",
    "\n",
    "for t in range(1, T+1):\n",
    "    N, K = map(int, input().split())\n",
    "    \n",
    "    \n",
    "    a = []\n",
    "    for i in range(N):\n",
    "        a.append(list(map(int,input().split())))\n",
    "          \n",
    "    ans = 0\n",
    "    ans = count(a, N, K)\n",
    "    \n",
    "    print('#'+str(t)+' '+str(ans))"
   ]
  }
 ],
 "metadata": {
  "kernelspec": {
   "display_name": "Python 3",
   "language": "python",
   "name": "python3"
  },
  "language_info": {
   "codemirror_mode": {
    "name": "ipython",
    "version": 3
   },
   "file_extension": ".py",
   "mimetype": "text/x-python",
   "name": "python",
   "nbconvert_exporter": "python",
   "pygments_lexer": "ipython3",
   "version": "3.7.3"
  }
 },
 "nbformat": 4,
 "nbformat_minor": 4
}
