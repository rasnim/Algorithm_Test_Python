{
 "cells": [
  {
   "cell_type": "code",
   "execution_count": 5,
   "metadata": {},
   "outputs": [
    {
     "name": "stdin",
     "output_type": "stream",
     "text": [
      " 1\n",
      " 5 2\n",
      " 1 3 3 6 7\n",
      " 8 13 9 12 8\n",
      " 4 16 11 12 6\n",
      " 2 4 1 23 2\n",
      " 9 13 4 7 3\n"
     ]
    },
    {
     "name": "stdout",
     "output_type": "stream",
     "text": [
      "#1 49\n"
     ]
    }
   ],
   "source": [
    "T = int(input())\n",
    "for t in range(1, T+1):    \n",
    "    N, M = input().split()\n",
    "    N = int(N)\n",
    "    M = int(M)\n",
    "    \n",
    "    a = [input().split() for j in range(N)]   \n",
    "    \n",
    "    max_num = 0\n",
    "        \n",
    "    for i in range(0, N-M+1):\n",
    "        for j in range(0, N-M+1):\n",
    "            \n",
    "            # Reset important\n",
    "            sum_num = 0\n",
    "            for k in range(i, i+M):\n",
    "                for l in range(j, j+M):\n",
    "                    sum_num += int(a[k][l])\n",
    "            if max_num < sum_num:\n",
    "                max_num = sum_num\n",
    "    \n",
    "    print('#'+str(t)+' '+str(max_num))"
   ]
  }
 ],
 "metadata": {
  "kernelspec": {
   "display_name": "Python 3",
   "language": "python",
   "name": "python3"
  },
  "language_info": {
   "codemirror_mode": {
    "name": "ipython",
    "version": 3
   },
   "file_extension": ".py",
   "mimetype": "text/x-python",
   "name": "python",
   "nbconvert_exporter": "python",
   "pygments_lexer": "ipython3",
   "version": "3.7.3"
  }
 },
 "nbformat": 4,
 "nbformat_minor": 4
}
