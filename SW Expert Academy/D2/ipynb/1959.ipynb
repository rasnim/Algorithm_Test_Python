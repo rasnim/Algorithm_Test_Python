{
 "cells": [
  {
   "cell_type": "code",
   "execution_count": 15,
   "metadata": {},
   "outputs": [
    {
     "name": "stdin",
     "output_type": "stream",
     "text": [
      " 2\n",
      " 3 5\n",
      " 1 5 3\n",
      " 3 6 -7 5 4\n"
     ]
    },
    {
     "name": "stdout",
     "output_type": "stream",
     "text": [
      "#1 30\n"
     ]
    },
    {
     "name": "stdin",
     "output_type": "stream",
     "text": [
      " 7 6\n",
      " 6 0 5 5 -1 1 6\n",
      " -4 1 8 7 -9 3\n"
     ]
    },
    {
     "name": "stdout",
     "output_type": "stream",
     "text": [
      "#2 63\n"
     ]
    }
   ],
   "source": [
    "def multiple(a, b, N, M):   \n",
    "    max_num = 0\n",
    "    if N < M:\n",
    "        for i in range(M-N+1):\n",
    "            c = 0\n",
    "            sum_c = 0\n",
    "            for j in range(N):\n",
    "                c = a[j] * b[i+j]                \n",
    "                sum_c += c\n",
    "            if max_num < sum_c:\n",
    "                max_num = sum_c\n",
    "                \n",
    "    elif N == M:\n",
    "        for i in range(N):\n",
    "            c = a[i] * b[i]\n",
    "            max_num += c\n",
    "\n",
    "    else:\n",
    "        for i in range(N-M+1):\n",
    "            c = 0\n",
    "            sum_c = 0\n",
    "            for j in range(M):\n",
    "                c = a[i+j] * b[j]               \n",
    "                sum_c += c               \n",
    "            if max_num < sum_c:\n",
    "                max_num = sum_c\n",
    "    return max_num\n",
    "\n",
    "T = int(input())\n",
    "\n",
    "for t in range(1, T+1):\n",
    "    N, M = map(int, input().split())\n",
    "    \n",
    "    a = list(map(int, input().split()))\n",
    "    b = list(map(int, input().split()))\n",
    "    \n",
    "    max_num = multiple(a, b, N, M)\n",
    "    \n",
    "    print('#%d'%t, max_num)"
   ]
  }
 ],
 "metadata": {
  "kernelspec": {
   "display_name": "Python 3",
   "language": "python",
   "name": "python3"
  },
  "language_info": {
   "codemirror_mode": {
    "name": "ipython",
    "version": 3
   },
   "file_extension": ".py",
   "mimetype": "text/x-python",
   "name": "python",
   "nbconvert_exporter": "python",
   "pygments_lexer": "ipython3",
   "version": "3.8.3"
  }
 },
 "nbformat": 4,
 "nbformat_minor": 4
}
