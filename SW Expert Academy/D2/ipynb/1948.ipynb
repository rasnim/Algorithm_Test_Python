{
 "cells": [
  {
   "cell_type": "code",
   "execution_count": 6,
   "metadata": {},
   "outputs": [
    {
     "name": "stdin",
     "output_type": "stream",
     "text": [
      " 3\n",
      " 3 1 3 31\n"
     ]
    },
    {
     "name": "stdout",
     "output_type": "stream",
     "text": [
      "#1 31\n"
     ]
    },
    {
     "name": "stdin",
     "output_type": "stream",
     "text": [
      " 5 5 8 15\n"
     ]
    },
    {
     "name": "stdout",
     "output_type": "stream",
     "text": [
      "#2 103\n"
     ]
    },
    {
     "name": "stdin",
     "output_type": "stream",
     "text": [
      " 7 17 12 24\n"
     ]
    },
    {
     "name": "stdout",
     "output_type": "stream",
     "text": [
      "#3 161\n"
     ]
    }
   ],
   "source": [
    "def month_day(m):\n",
    "    if m == 1:\n",
    "        day = 31\n",
    "    elif m == 2:\n",
    "        day = 28\n",
    "    elif m == 3:\n",
    "        day = 31\n",
    "    elif m == 4:\n",
    "        day = 30\n",
    "    elif m == 5:\n",
    "        day = 31\n",
    "    elif m == 6:\n",
    "        day = 30\n",
    "    elif m == 7:\n",
    "        day = 31\n",
    "    elif m == 8:\n",
    "        day = 31\n",
    "    elif m == 9:\n",
    "        day = 30\n",
    "    elif m == 10:\n",
    "        day = 31\n",
    "    elif m == 11:\n",
    "        day = 30\n",
    "    else:\n",
    "        day = 31\n",
    "    \n",
    "    return day\n",
    "\n",
    "T = int(input())\n",
    "\n",
    "for t in range(1, T+1):\n",
    "    day = 0\n",
    "    sum_m2day = 0\n",
    "    sum_m1day = 0\n",
    "    \n",
    "    a = list(map(int, input().split()))\n",
    "    \n",
    "    m_1 = a[0]\n",
    "    d_1 = a[1]\n",
    "    m_2 = a[2]\n",
    "    d_2 = a[3]\n",
    "    \n",
    "    for i in range(1, m_2):\n",
    "        sum_m2day += month_day(i)\n",
    "    sum_m2day += d_2\n",
    "    \n",
    "    for j in range(1, m_1):\n",
    "        sum_m1day += month_day(j)\n",
    "    sum_m1day += d_1\n",
    "    \n",
    "    day = sum_m2day - sum_m1day + 1 \n",
    "    \n",
    "    print('#%d'%t, day)"
   ]
  }
 ],
 "metadata": {
  "kernelspec": {
   "display_name": "Python 3",
   "language": "python",
   "name": "python3"
  },
  "language_info": {
   "codemirror_mode": {
    "name": "ipython",
    "version": 3
   },
   "file_extension": ".py",
   "mimetype": "text/x-python",
   "name": "python",
   "nbconvert_exporter": "python",
   "pygments_lexer": "ipython3",
   "version": "3.7.3"
  }
 },
 "nbformat": 4,
 "nbformat_minor": 4
}
