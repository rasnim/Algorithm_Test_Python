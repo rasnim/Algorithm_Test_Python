{
 "cells": [
  {
   "cell_type": "code",
   "execution_count": 2,
   "metadata": {},
   "outputs": [
    {
     "name": "stdin",
     "output_type": "stream",
     "text": [
      " 1\n",
      " 1\n"
     ]
    },
    {
     "name": "stdout",
     "output_type": "stream",
     "text": [
      "#1 10\n"
     ]
    }
   ],
   "source": [
    "T = int(input())\n",
    "def check(check_list):\n",
    "    for i in check_list:\n",
    "        if i == 0:\n",
    "            return 0\n",
    "    return 1\n",
    "\n",
    "for t in range(1, T+1):\n",
    "    check_list = [0 for i in range(10)]\n",
    "    N = int(input())\n",
    "    index = 1\n",
    "    while True:\n",
    "        tmp = N * index\n",
    "        for s in str(tmp):\n",
    "            check_list[int(s)] += 1\n",
    "        if check(check_list) == 1:\n",
    "            break\n",
    "        index += 1\n",
    "    \n",
    "    \n",
    "    print('#%d'%(t), index*N)"
   ]
  }
 ],
 "metadata": {
  "kernelspec": {
   "display_name": "Python 3",
   "language": "python",
   "name": "python3"
  },
  "language_info": {
   "codemirror_mode": {
    "name": "ipython",
    "version": 3
   },
   "file_extension": ".py",
   "mimetype": "text/x-python",
   "name": "python",
   "nbconvert_exporter": "python",
   "pygments_lexer": "ipython3",
   "version": "3.8.3"
  }
 },
 "nbformat": 4,
 "nbformat_minor": 4
}
