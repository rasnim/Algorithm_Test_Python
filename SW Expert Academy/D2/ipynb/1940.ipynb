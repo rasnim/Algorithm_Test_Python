{
 "cells": [
  {
   "cell_type": "code",
   "execution_count": 1,
   "metadata": {},
   "outputs": [
    {
     "name": "stdin",
     "output_type": "stream",
     "text": [
      " 1\n",
      " 2\n",
      " 1 2\n",
      " 2 1\n"
     ]
    },
    {
     "name": "stdout",
     "output_type": "stream",
     "text": [
      "#1 3\n"
     ]
    }
   ],
   "source": [
    "T = int(input())\n",
    "\n",
    "for t in range(1, T+1):\n",
    "    N = int(input())\n",
    "    \n",
    "    commands = [list(map(int, input().split())) for i in range(N)]\n",
    "    \n",
    "    v = 0\n",
    "    d = 0\n",
    "    \n",
    "    for command in commands:\n",
    "        if command[0] == 1:\n",
    "            v += command[1]\n",
    "            d += v\n",
    "        elif command[0] == 2:\n",
    "            if v < command[1]:\n",
    "                v = 0\n",
    "            else:\n",
    "                v -= command[1]\n",
    "                d += v\n",
    "        else:\n",
    "            d += v\n",
    "    \n",
    "    print('#%d'%t, d)"
   ]
  }
 ],
 "metadata": {
  "kernelspec": {
   "display_name": "Python 3",
   "language": "python",
   "name": "python3"
  },
  "language_info": {
   "codemirror_mode": {
    "name": "ipython",
    "version": 3
   },
   "file_extension": ".py",
   "mimetype": "text/x-python",
   "name": "python",
   "nbconvert_exporter": "python",
   "pygments_lexer": "ipython3",
   "version": "3.8.3"
  }
 },
 "nbformat": 4,
 "nbformat_minor": 4
}
