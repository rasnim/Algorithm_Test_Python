{
 "cells": [
  {
   "cell_type": "code",
   "execution_count": 3,
   "metadata": {},
   "outputs": [
    {
     "name": "stdin",
     "output_type": "stream",
     "text": [
      " 1\n",
      " 6791400\n"
     ]
    },
    {
     "name": "stdout",
     "output_type": "stream",
     "text": [
      "#1 3 2 2 3 1\n"
     ]
    }
   ],
   "source": [
    "def counting(N):\n",
    "    a = 0\n",
    "    b = 0\n",
    "    c = 0\n",
    "    d = 0\n",
    "    e = 0\n",
    "    \n",
    "    while N%2 == 0:\n",
    "        N = N//2\n",
    "        a += 1\n",
    "    \n",
    "    while N%3 == 0:\n",
    "        N = N//3\n",
    "        b += 1\n",
    "\n",
    "    while N%5 == 0:\n",
    "        N = N//5\n",
    "        c += 1\n",
    "        \n",
    "    while N%7 == 0:\n",
    "        N = N//7\n",
    "        d += 1\n",
    "        \n",
    "    while N%11 == 0:\n",
    "        N = N//11\n",
    "        e += 1\n",
    "    \n",
    "    return a, b, c, d, e\n",
    "    \n",
    "\n",
    "T = int(input())\n",
    "\n",
    "for t in range(1, T+1):\n",
    "    \n",
    "    N = int(input())    \n",
    "    a, b, c, d, e = counting(N)    \n",
    "    print('#%d'%t, a, b, c, d, e)"
   ]
  }
 ],
 "metadata": {
  "kernelspec": {
   "display_name": "Python 3",
   "language": "python",
   "name": "python3"
  },
  "language_info": {
   "codemirror_mode": {
    "name": "ipython",
    "version": 3
   },
   "file_extension": ".py",
   "mimetype": "text/x-python",
   "name": "python",
   "nbconvert_exporter": "python",
   "pygments_lexer": "ipython3",
   "version": "3.8.3"
  }
 },
 "nbformat": 4,
 "nbformat_minor": 4
}
