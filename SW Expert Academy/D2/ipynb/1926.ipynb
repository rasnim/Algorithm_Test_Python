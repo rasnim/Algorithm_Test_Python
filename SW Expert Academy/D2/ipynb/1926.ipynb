{
 "cells": [
  {
   "cell_type": "code",
   "execution_count": 70,
   "metadata": {},
   "outputs": [
    {
     "name": "stdin",
     "output_type": "stream",
     "text": [
      " 33\n"
     ]
    },
    {
     "name": "stdout",
     "output_type": "stream",
     "text": [
      "1 2 - 4 5 - 7 8 - 10 11 12 - 14 15 - 17 18 - 20 21 22 - 24 25 - 27 28 - - - - -- "
     ]
    }
   ],
   "source": [
    "N = int(input())\n",
    "\n",
    "for i in range(1, N+1):\n",
    "    if list(str(i)).count('3') == 0 and list(str(i)).count('6') == 0 and list(str(i)).count('9') == 0:\n",
    "        print(i, end=' ') \n",
    "        # 3이 아닌 경우\n",
    "    else:\n",
    "        # 3인 경우\n",
    "        arr = list(str(i))\n",
    "        for i in range(len(arr)):\n",
    "            x = arr.pop()\n",
    "            if x == '3' or x == '6' or x == '9':\n",
    "                print('-', end='')\n",
    "        print('', end=' ')"
   ]
  }
 ],
 "metadata": {
  "kernelspec": {
   "display_name": "Python 3",
   "language": "python",
   "name": "python3"
  },
  "language_info": {
   "codemirror_mode": {
    "name": "ipython",
    "version": 3
   },
   "file_extension": ".py",
   "mimetype": "text/x-python",
   "name": "python",
   "nbconvert_exporter": "python",
   "pygments_lexer": "ipython3",
   "version": "3.8.3"
  }
 },
 "nbformat": 4,
 "nbformat_minor": 4
}
