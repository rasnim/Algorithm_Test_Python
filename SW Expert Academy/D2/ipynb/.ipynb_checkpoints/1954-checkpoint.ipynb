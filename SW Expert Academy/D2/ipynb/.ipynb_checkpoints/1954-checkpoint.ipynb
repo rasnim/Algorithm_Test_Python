{
 "cells": [
  {
   "cell_type": "code",
   "execution_count": 18,
   "metadata": {},
   "outputs": [
    {
     "name": "stdin",
     "output_type": "stream",
     "text": [
      " 1\n",
      " 3\n"
     ]
    },
    {
     "name": "stdout",
     "output_type": "stream",
     "text": [
      "#1\n",
      "1 2 3 \n",
      "8 9 4 \n",
      "7 6 5 \n"
     ]
    }
   ],
   "source": [
    "T = int(input())\n",
    "\n",
    "for t in range(1, T+1):\n",
    "    N = int(input())\n",
    "    \n",
    "    start = 1\n",
    "    arr = [[0] * N for i in range(N)]\n",
    "   \n",
    "    for i in range(N//2):\n",
    "        for j in range(i, N-i):\n",
    "            arr[i][j] = start\n",
    "            start += 1\n",
    "        \n",
    "        for j in range(i+1, N-i):\n",
    "            arr[j][N-1-i] = start\n",
    "            start += 1\n",
    "        \n",
    "        for j in range(N-1-i,i,-1):\n",
    "            arr[N-1-i][j-1] = start\n",
    "            start+=1\n",
    " \n",
    "        for j in range(N-2-i,i,-1):\n",
    "            arr[j][i] = start\n",
    "            start+=1\n",
    "            \n",
    "    if N % 2 == 1:\n",
    "        arr[(N-1)//2][(N-1)//2] = start\n",
    "    \n",
    "    print('#%d'%t)\n",
    "    for i in range(N):\n",
    "        for j in range(N):\n",
    "            print(arr[i][j], end=' ')\n",
    "        print()"
   ]
  }
 ],
 "metadata": {
  "kernelspec": {
   "display_name": "Python 3",
   "language": "python",
   "name": "python3"
  },
  "language_info": {
   "codemirror_mode": {
    "name": "ipython",
    "version": 3
   },
   "file_extension": ".py",
   "mimetype": "text/x-python",
   "name": "python",
   "nbconvert_exporter": "python",
   "pygments_lexer": "ipython3",
   "version": "3.7.3"
  }
 },
 "nbformat": 4,
 "nbformat_minor": 4
}
