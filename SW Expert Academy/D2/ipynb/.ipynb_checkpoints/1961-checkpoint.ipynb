{
 "cells": [
  {
   "cell_type": "code",
   "execution_count": 33,
   "metadata": {},
   "outputs": [
    {
     "name": "stdin",
     "output_type": "stream",
     "text": [
      " 1\n",
      " 6\n",
      " 6 9 4 7 0 5\n",
      " 8 9 9 2 6 5\n",
      " 6 8 5 4 9 8\n",
      " 2 2 7 7 8 4\n",
      " 7 5 1 9 7 9\n",
      " 8 9 3 9 7 6\n"
     ]
    },
    {
     "name": "stdout",
     "output_type": "stream",
     "text": [
      "#1\n",
      "872686 679398 558496 \n",
      "952899 979157 069877 \n",
      "317594 487722 724799 \n",
      "997427 894586 495713 \n",
      "778960 562998 998259 \n",
      "694855 507496 686278 \n"
     ]
    }
   ],
   "source": [
    "class arrayrotate:\n",
    "    def __init__(self):\n",
    "        return\n",
    "    \n",
    "    def rotate(a, N):\n",
    "        arr = [[0 for i in range(N)]for j in range(N)]\n",
    "    \n",
    "        for j in range(N):\n",
    "                arr[j][N-1] = a[0][j]\n",
    "                arr[j][0] = a[N-1][j]\n",
    "\n",
    "        for i in range(N):\n",
    "            for j in range(N):\n",
    "                arr[j][N-1-i] = a[i][j] \n",
    "\n",
    "        return arr, N\n",
    "    \n",
    "\n",
    "T = int(input())\n",
    "\n",
    "for t in range(1, T+1):\n",
    "    N = int(input())\n",
    "    \n",
    "    a = []\n",
    "    for i in range(N):\n",
    "        a.append(list(map(int, input().split())))\n",
    "    \n",
    "    rotate_90, N = arrayrotate.rotate(a, N)\n",
    "    rotate_180, N = arrayrotate.rotate(rotate_90, N)\n",
    "    rotate_270, N = arrayrotate.rotate(rotate_180, N)\n",
    "    \n",
    "    print('#%d'%t)\n",
    "    for i in range(N):\n",
    "        for j in range(N):\n",
    "            print(rotate_90[i][j], end='')\n",
    "        print(end=' ')\n",
    "        for j in range(N):\n",
    "            print(rotate_180[i][j], end='')\n",
    "        print(end=' ')\n",
    "        for j in range(N):\n",
    "            print(rotate_270[i][j], end='')\n",
    "        print(end=' ')\n",
    "        print()"
   ]
  }
 ],
 "metadata": {
  "kernelspec": {
   "display_name": "Python 3",
   "language": "python",
   "name": "python3"
  },
  "language_info": {
   "codemirror_mode": {
    "name": "ipython",
    "version": 3
   },
   "file_extension": ".py",
   "mimetype": "text/x-python",
   "name": "python",
   "nbconvert_exporter": "python",
   "pygments_lexer": "ipython3",
   "version": "3.7.3"
  }
 },
 "nbformat": 4,
 "nbformat_minor": 4
}
