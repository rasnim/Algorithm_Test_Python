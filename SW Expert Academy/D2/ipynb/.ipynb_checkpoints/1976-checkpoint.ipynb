{
 "cells": [
  {
   "cell_type": "code",
   "execution_count": 8,
   "metadata": {},
   "outputs": [
    {
     "name": "stdin",
     "output_type": "stream",
     "text": [
      " 3\n",
      " 3 17 1 39\n"
     ]
    },
    {
     "name": "stdout",
     "output_type": "stream",
     "text": [
      "#1 4 56\n"
     ]
    },
    {
     "name": "stdin",
     "output_type": "stream",
     "text": [
      " 8 22 5 10\n"
     ]
    },
    {
     "name": "stdout",
     "output_type": "stream",
     "text": [
      "#2 1 32\n"
     ]
    },
    {
     "name": "stdin",
     "output_type": "stream",
     "text": [
      " 6 53 2 12\n"
     ]
    },
    {
     "name": "stdout",
     "output_type": "stream",
     "text": [
      "#3 9 5\n"
     ]
    }
   ],
   "source": [
    "T = int(input())\n",
    "\n",
    "for t in range(1, T+1):\n",
    "    \n",
    "    a = list(map(int, input().split()))\n",
    "    \n",
    "    h_1 = a[0]\n",
    "    m_1 = a[1]\n",
    "    h_2 = a[2]\n",
    "    m_2 = a[3]\n",
    "    \n",
    "    sum_h = h_1 + h_2 \n",
    "    sum_m = m_1 + m_2\n",
    "\n",
    "    if sum_m > 60:\n",
    "        sum_m = sum_m - 60\n",
    "        sum_h = sum_h + 1\n",
    "    \n",
    "    if sum_h > 12:\n",
    "        sum_h = sum_h - 12\n",
    "    \n",
    "    print('#%d'%t, '%d'%sum_h, '%d'%sum_m)"
   ]
  }
 ],
 "metadata": {
  "kernelspec": {
   "display_name": "Python 3",
   "language": "python",
   "name": "python3"
  },
  "language_info": {
   "codemirror_mode": {
    "name": "ipython",
    "version": 3
   },
   "file_extension": ".py",
   "mimetype": "text/x-python",
   "name": "python",
   "nbconvert_exporter": "python",
   "pygments_lexer": "ipython3",
   "version": "3.7.3"
  }
 },
 "nbformat": 4,
 "nbformat_minor": 4
}
