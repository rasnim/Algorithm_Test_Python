{
 "cells": [
  {
   "cell_type": "code",
   "execution_count": 14,
   "metadata": {},
   "outputs": [
    {
     "name": "stdin",
     "output_type": "stream",
     "text": [
      " 1\n"
     ]
    },
    {
     "name": "stdout",
     "output_type": "stream",
     "text": [
      "#1\n"
     ]
    },
    {
     "name": "stdin",
     "output_type": "stream",
     "text": [
      " 4\n",
      " A 20\n",
      " B 20\n",
      " C 20\n",
      " D 19\n"
     ]
    },
    {
     "name": "stdout",
     "output_type": "stream",
     "text": [
      "AAAAAAAAAA\n",
      "AAAAAAAAAA\n",
      "BBBBBBBBBB\n",
      "BBBBBBBBBB\n",
      "CCCCCCCCCC\n",
      "CCCCCCCCCC\n",
      "DDDDDDDDDD\n",
      "DDDDDDDDD\n"
     ]
    }
   ],
   "source": [
    "T = int(input())\n",
    "\n",
    "for t in range(1, T+1):\n",
    "    print('#%d'%t)  \n",
    "    N = int(input())    \n",
    "    string = ''\n",
    "    for i in range(N):\n",
    "        c, k = input().split()\n",
    "        k = int(k)\n",
    "        string = string + (c*k)\n",
    "        \n",
    "    for i in range(len(string) // 10 + 1):\n",
    "        print(string[i * 10 : (i+1) * 10])"
   ]
  }
 ],
 "metadata": {
  "kernelspec": {
   "display_name": "Python 3",
   "language": "python",
   "name": "python3"
  },
  "language_info": {
   "codemirror_mode": {
    "name": "ipython",
    "version": 3
   },
   "file_extension": ".py",
   "mimetype": "text/x-python",
   "name": "python",
   "nbconvert_exporter": "python",
   "pygments_lexer": "ipython3",
   "version": "3.7.3"
  }
 },
 "nbformat": 4,
 "nbformat_minor": 4
}
