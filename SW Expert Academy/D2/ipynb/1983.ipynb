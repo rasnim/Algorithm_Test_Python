{
 "cells": [
  {
   "cell_type": "code",
   "execution_count": 16,
   "metadata": {},
   "outputs": [
    {
     "name": "stdin",
     "output_type": "stream",
     "text": [
      " 1\n",
      " 10 2\n",
      " 87 59 88\n",
      " 99 94 78\n",
      " 94 86 86\n",
      " 99 100 99\n",
      " 69 76 70\n",
      " 76 89 96\n",
      " 98 95 96\n",
      " 74 69 60\n",
      " 98 84 67\n",
      " 85 84 91\n"
     ]
    },
    {
     "name": "stdout",
     "output_type": "stream",
     "text": [
      "#1 A-\n"
     ]
    }
   ],
   "source": [
    "T = int(input())\n",
    "\n",
    "for t in range(1, T+1):\n",
    "    N, K = input().split()\n",
    "    N = int(N)\n",
    "    K = int(K)\n",
    "    \n",
    "    score = 0\n",
    "    \n",
    "    a = []\n",
    "    for i in range(0, N):\n",
    "        mid, fin, hom = input().split()\n",
    "        a.append(int(mid) * 0.35 + int(fin) * 0.45 + int(hom) * 0.2)\n",
    "    \n",
    "    score = a[K-1]\n",
    "    a.sort()\n",
    "    b = a.index(score)\n",
    "    per = int((b/N) * 10)\n",
    "    \n",
    "    if per == 0:\n",
    "        answer = 'D0'\n",
    "    elif per == 1:\n",
    "        answer = 'C-'\n",
    "    elif per == 2:\n",
    "        answer = 'C0'\n",
    "    elif per == 3:\n",
    "        answer = 'C+'\n",
    "    elif per == 4:\n",
    "        answer = 'B-'\n",
    "    elif per == 5:\n",
    "        answer = 'B0'\n",
    "    elif per == 6:\n",
    "        answer = 'B+'\n",
    "    elif per == 7:\n",
    "        answer = 'A-'\n",
    "    elif per == 8:\n",
    "        answer = 'A0'\n",
    "    else:\n",
    "        answer = 'A+'  \n",
    "        \n",
    "    print('#'+str(t)+' '+answer)"
   ]
  }
 ],
 "metadata": {
  "kernelspec": {
   "display_name": "Python 3",
   "language": "python",
   "name": "python3"
  },
  "language_info": {
   "codemirror_mode": {
    "name": "ipython",
    "version": 3
   },
   "file_extension": ".py",
   "mimetype": "text/x-python",
   "name": "python",
   "nbconvert_exporter": "python",
   "pygments_lexer": "ipython3",
   "version": "3.8.3"
  }
 },
 "nbformat": 4,
 "nbformat_minor": 4
}
