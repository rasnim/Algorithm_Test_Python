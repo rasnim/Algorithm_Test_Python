{
 "cells": [
  {
   "cell_type": "code",
   "execution_count": 1,
   "metadata": {},
   "outputs": [
    {
     "name": "stdin",
     "output_type": "stream",
     "text": [
      " 2\n"
     ]
    }
   ],
   "source": [
    "T = int(input())"
   ]
  },
  {
   "cell_type": "code",
   "execution_count": 6,
   "metadata": {},
   "outputs": [
    {
     "name": "stdin",
     "output_type": "stream",
     "text": [
      " 2\n",
      " -100 100\n"
     ]
    },
    {
     "name": "stdout",
     "output_type": "stream",
     "text": [
      "#1 100 2\n"
     ]
    },
    {
     "name": "stdin",
     "output_type": "stream",
     "text": [
      " 3\n",
      " -5 -1 3\n"
     ]
    },
    {
     "name": "stdout",
     "output_type": "stream",
     "text": [
      "#2 1 1\n"
     ]
    }
   ],
   "source": [
    "for t in range(1, T+1):\n",
    "    \n",
    "    N = int(input())\n",
    "        \n",
    "    stone_dist = list(map(int, input().split()))\n",
    "    \n",
    "    count = 1\n",
    "    distance = abs(stone_dist[0])\n",
    "    \n",
    "    for i in range(1, len(stone_dist)):\n",
    "        if abs(0-stone_dist[i]) < distance:\n",
    "            distance = abs(0-stone_dist[i])\n",
    "        elif abs(0-stone_dist[i]) == distance:\n",
    "            distance = distance\n",
    "            count += 1\n",
    "        else:\n",
    "            distance = distance\n",
    "    \n",
    "    print(f'#{t} {distance} {count}')"
   ]
  }
 ],
 "metadata": {
  "kernelspec": {
   "display_name": "Python 3",
   "language": "python",
   "name": "python3"
  },
  "language_info": {
   "codemirror_mode": {
    "name": "ipython",
    "version": 3
   },
   "file_extension": ".py",
   "mimetype": "text/x-python",
   "name": "python",
   "nbconvert_exporter": "python",
   "pygments_lexer": "ipython3",
   "version": "3.8.3"
  }
 },
 "nbformat": 4,
 "nbformat_minor": 4
}
