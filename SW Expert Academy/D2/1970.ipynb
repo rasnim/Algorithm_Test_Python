{
 "cells": [
  {
   "cell_type": "code",
   "execution_count": 15,
   "metadata": {},
   "outputs": [
    {
     "name": "stdin",
     "output_type": "stream",
     "text": [
      " 2\n",
      " 32850\n"
     ]
    },
    {
     "name": "stdout",
     "output_type": "stream",
     "text": [
      "#1\n",
      "0 3 0 2 1 3 1 0 \n"
     ]
    },
    {
     "name": "stdin",
     "output_type": "stream",
     "text": [
      " 160\n"
     ]
    },
    {
     "name": "stdout",
     "output_type": "stream",
     "text": [
      "#2\n",
      "0 0 0 0 0 1 1 1 \n"
     ]
    }
   ],
   "source": [
    "def change(a, N):    \n",
    "    def change_50000(a, N):\n",
    "        if N >= 50000:\n",
    "            N = N - 50000\n",
    "            a[0] += 1\n",
    "            a, N = change_50000(a, N)        \n",
    "        return a, N\n",
    "    \n",
    "    def change_10000(a, N):\n",
    "        if N >= 10000:\n",
    "            N = N - 10000\n",
    "            a[1] += 1\n",
    "            a, N = change_10000(a, N)       \n",
    "        return a, N\n",
    "    \n",
    "    def change_5000(a, N):\n",
    "        if N >= 5000:\n",
    "            N = N - 5000\n",
    "            a[2] += 1\n",
    "            a, N = change_5000(a, N)    \n",
    "        return a, N\n",
    "    \n",
    "    def change_1000(a, N):\n",
    "        if N >= 1000:\n",
    "            N = N - 1000\n",
    "            a[3] += 1\n",
    "            a, N = change_1000(a, N)      \n",
    "        return a, N\n",
    "    \n",
    "    def change_500(a, N):\n",
    "        if N >= 500:\n",
    "            N = N - 500\n",
    "            a[4] += 1\n",
    "            a, N = change_500(a, N)    \n",
    "        return a, N\n",
    "    \n",
    "    def change_100(a, N):\n",
    "        if N >= 100:\n",
    "            N = N - 100\n",
    "            a[5] += 1\n",
    "            a, N = change_100(a, N)      \n",
    "        return a, N\n",
    "    \n",
    "    def change_50(a, N):\n",
    "        if N >= 50:\n",
    "            N = N - 50\n",
    "            a[6] += 1\n",
    "            a, N = change_50(a, N)      \n",
    "        return a, N\n",
    "     \n",
    "    def change_10(a, N):\n",
    "        if N >= 10:\n",
    "            N = N - 10\n",
    "            a[7] += 1\n",
    "            a, N = change_10(a, N)      \n",
    "        return a, N\n",
    "    \n",
    "    a_50000, N_50000 = change_50000(a, N)\n",
    "    a_10000, N_10000 = change_10000(a_50000, N_50000)\n",
    "    a_5000, N_5000 = change_5000(a_10000, N_10000)\n",
    "    a_1000, N_1000 = change_1000(a_5000, N_5000)\n",
    "    a_500, N_500 = change_500(a_1000, N_1000)\n",
    "    a_100, N_100 = change_100(a_500, N_500)\n",
    "    a_50, N_50 = change_50(a_100, N_100)\n",
    "    a_10, N_10 = change_10(a_50, N_50)\n",
    "    \n",
    "    return a_10\n",
    "\n",
    "\n",
    "\n",
    "T = int(input())\n",
    "for t in range(1, T+1):\n",
    "    N = int(input())\n",
    "    \n",
    "    a = [0] * 8\n",
    "    a = change(a, N)\n",
    "    \n",
    "    print('#%d'%t)\n",
    "    \n",
    "    for i in range(8):\n",
    "        print(a[i], end=' ')\n",
    "    print()"
   ]
  }
 ],
 "metadata": {
  "kernelspec": {
   "display_name": "Python 3",
   "language": "python",
   "name": "python3"
  },
  "language_info": {
   "codemirror_mode": {
    "name": "ipython",
    "version": 3
   },
   "file_extension": ".py",
   "mimetype": "text/x-python",
   "name": "python",
   "nbconvert_exporter": "python",
   "pygments_lexer": "ipython3",
   "version": "3.7.3"
  }
 },
 "nbformat": 4,
 "nbformat_minor": 4
}
