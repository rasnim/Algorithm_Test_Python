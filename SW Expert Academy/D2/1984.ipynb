{
 "cells": [
  {
   "cell_type": "code",
   "execution_count": 1,
   "metadata": {},
   "outputs": [],
   "source": [
    "import math"
   ]
  },
  {
   "cell_type": "code",
   "execution_count": 4,
   "metadata": {},
   "outputs": [
    {
     "name": "stdin",
     "output_type": "stream",
     "text": [
      " 3\n",
      " 3 17 1 39 8 41 2 32 99 2 \n"
     ]
    },
    {
     "name": "stdout",
     "output_type": "stream",
     "text": [
      "#1 18\n"
     ]
    },
    {
     "name": "stdin",
     "output_type": "stream",
     "text": [
      " 22 8 5 123 7 2 63 7 3 46\n"
     ]
    },
    {
     "name": "stdout",
     "output_type": "stream",
     "text": [
      "#2 20\n"
     ]
    },
    {
     "name": "stdin",
     "output_type": "stream",
     "text": [
      " 6 63 2 3 58 76 21 33 8 1\n"
     ]
    },
    {
     "name": "stdout",
     "output_type": "stream",
     "text": [
      "#3 24\n"
     ]
    }
   ],
   "source": [
    "T = int(input())\n",
    "\n",
    "for t in range(1, T+1):\n",
    "    ans = 0\n",
    "    a = input().split()\n",
    "    a = [int(i) for i in a]\n",
    "    \n",
    "    sum_num = 0        \n",
    "    \n",
    "    for i in range(len(a)):\n",
    "        sum_num += a[i]\n",
    "    \n",
    "    min_num = a[0]\n",
    "    max_num = a[0]\n",
    "    for j in range(0, len(a)):\n",
    "       \n",
    "        if a[j] < min_num:\n",
    "            min_num = a[j]\n",
    "        elif a[j] > max_num:\n",
    "            max_num = a[j]\n",
    "    \n",
    "    sum_num -= min_num\n",
    "    sum_num -= max_num\n",
    "    ans = round(sum_num / 8)\n",
    "    \n",
    "    print('#' + str(t) +' ' + str(ans))"
   ]
  }
 ],
 "metadata": {
  "kernelspec": {
   "display_name": "Python 3",
   "language": "python",
   "name": "python3"
  },
  "language_info": {
   "codemirror_mode": {
    "name": "ipython",
    "version": 3
   },
   "file_extension": ".py",
   "mimetype": "text/x-python",
   "name": "python",
   "nbconvert_exporter": "python",
   "pygments_lexer": "ipython3",
   "version": "3.7.3"
  }
 },
 "nbformat": 4,
 "nbformat_minor": 4
}
