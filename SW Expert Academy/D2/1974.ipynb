{
 "cells": [
  {
   "cell_type": "code",
   "execution_count": 10,
   "metadata": {},
   "outputs": [
    {
     "name": "stdin",
     "output_type": "stream",
     "text": [
      " 1\n",
      " 7 3 6 4 2 9 5 8 1\n",
      " 5 8 9 1 6 7 3 2 4\n",
      " 2 1 4 5 8 3 6 9 7\n",
      " 8 4 7 9 3 6 1 5 2\n",
      " 1 5 3 8 4 2 9 7 6\n",
      " 9 6 2 7 5 1 8 4 3\n",
      " 4 2 1 3 9 8 7 6 5\n",
      " 3 9 5 6 7 4 2 1 8\n",
      " 6 7 8 2 1 5 4 3 9\n"
     ]
    },
    {
     "name": "stdout",
     "output_type": "stream",
     "text": [
      "#1 1\n"
     ]
    }
   ],
   "source": [
    "class checking:\n",
    "    def __init__(self):\n",
    "        return    \n",
    "\n",
    "    def count(self, a, n):\n",
    "        flag = 0\n",
    "\n",
    "        answer_row = checking.checkR(checking, a, n, flag)\n",
    "        answer_col = checking.checkC(checking, a, n, flag)\n",
    "        answer_squ = checking.checkRC(checking, a, n, flag)\n",
    "\n",
    "        if answer_row == 0 and answer_col == 0 and answer_squ == 0:\n",
    "            answer = 1\n",
    "        else:\n",
    "            answer = 0\n",
    "        return answer\n",
    "    \n",
    "    def checkR(self, a, n, flag):\n",
    "        answer_row = flag\n",
    "        for i in range(n): \n",
    "            # 배열 초기화 값 설정\n",
    "            arr = [0] * (n+1)\n",
    "            for j in range(n):\n",
    "                if arr[a[i][j]] != 0:\n",
    "                    answer_row = 1\n",
    "                    break\n",
    "                else:\n",
    "                    arr[a[i][j]] = 1\n",
    "        return answer_row\n",
    "    \n",
    "    \n",
    "    def checkC(self, a, n, flag):\n",
    "        answer_col = flag\n",
    "        for j in range(n):\n",
    "            # 배열 초기화 값 설정\n",
    "            arr = [0] * (n+1)\n",
    "            for i in range(n):\n",
    "                if arr[a[i][j]] != 0:\n",
    "                    answer_col = 1\n",
    "                    break\n",
    "                else:\n",
    "                    arr[a[i][j]] = 1        \n",
    "        return answer_col\n",
    "    \n",
    "    def checkRC(self, a, n, flag):\n",
    "        answer_squ = flag\n",
    "        for i in range(0,n,3):\n",
    "            # 배열 초기화 값 설정\n",
    "            arr = [0] * (n+1)\n",
    "            for j in range(0,n,3):\n",
    "                arr[a[i][j]] = 1\n",
    "                arr[a[i][j+1]] = 1\n",
    "                arr[a[i][j+2]] = 1\n",
    "                \n",
    "                arr[a[i+1][j]] = 1\n",
    "                arr[a[i+1][j+1]] = 1\n",
    "                arr[a[i+1][j+2]] = 1\n",
    "                \n",
    "                arr[a[i+2][j]] = 1\n",
    "                arr[a[i+2][j+1]] = 1\n",
    "                arr[a[i+2][j+2]] = 1\n",
    "            \n",
    "                for k in range(1, 10):\n",
    "                    if arr[k] != 1:\n",
    "                        answer_squ = 1\n",
    "                        break\n",
    "        return answer_squ\n",
    "    \n",
    "    \n",
    "if __name__ == '__main__':    \n",
    "    T = int(input())\n",
    "\n",
    "    for t in range(1, T+1):    \n",
    "        a = []\n",
    "        n = 9\n",
    "        for i in range(n):\n",
    "            a.append(list(map(int, input().split())))\n",
    "\n",
    "        answer = checking.count(checking, a, n) \n",
    "\n",
    "        print('#%d'%t, '%d'%answer)"
   ]
  }
 ],
 "metadata": {
  "kernelspec": {
   "display_name": "Python 3",
   "language": "python",
   "name": "python3"
  },
  "language_info": {
   "codemirror_mode": {
    "name": "ipython",
    "version": 3
   },
   "file_extension": ".py",
   "mimetype": "text/x-python",
   "name": "python",
   "nbconvert_exporter": "python",
   "pygments_lexer": "ipython3",
   "version": "3.7.3"
  }
 },
 "nbformat": 4,
 "nbformat_minor": 4
}
