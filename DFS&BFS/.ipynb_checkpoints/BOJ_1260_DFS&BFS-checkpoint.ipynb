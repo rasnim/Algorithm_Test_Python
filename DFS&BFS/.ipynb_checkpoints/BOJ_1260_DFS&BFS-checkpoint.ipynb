{
 "cells": [
  {
   "cell_type": "code",
   "execution_count": 24,
   "metadata": {},
   "outputs": [
    {
     "name": "stdin",
     "output_type": "stream",
     "text": [
      " 4 5 1\n",
      " 1 2\n",
      " 1 3\n",
      " 1 4\n",
      " 2 4\n",
      " 3 4\n"
     ]
    },
    {
     "name": "stdout",
     "output_type": "stream",
     "text": [
      "1 2 4 3 \n",
      "1 2 3 4 "
     ]
    }
   ],
   "source": [
    "N, M, V = map(int, input().split())\n",
    "\n",
    "arr = [[0] * (N+1) for _ in range(N+1)]\n",
    "\n",
    "for _ in range(M):\n",
    "    link = list(map(int, input().split()))\n",
    "    \n",
    "    arr[link[0]][link[1]] = 1\n",
    "    arr[link[1]][link[0]] = 1\n",
    "    \n",
    "\n",
    "stack = []    \n",
    "def dfs(current_node, arr):\n",
    "    stack.append(current_node)\n",
    "    n = current_node\n",
    "    print(n, end=' ')\n",
    "    for i in range(1, N+1):\n",
    "        if arr[n][i] == 1 and i not in stack:\n",
    "            dfs(i, arr)\n",
    "\n",
    "def bfs(current_node, arr):\n",
    "    queue = [current_node]\n",
    "    visited = [current_node]\n",
    "    while queue:\n",
    "        n = queue.pop(0)\n",
    "        print(n, end=' ')\n",
    "        for i in range(1, N+1):\n",
    "            if arr[n][i] == 1 and i not in visited:\n",
    "                visited.append(i)\n",
    "                queue.append(i)\n",
    "    \n",
    "dfs(V, arr)\n",
    "print()\n",
    "bfs(V, arr)"
   ]
  }
 ],
 "metadata": {
  "kernelspec": {
   "display_name": "Python 3",
   "language": "python",
   "name": "python3"
  },
  "language_info": {
   "codemirror_mode": {
    "name": "ipython",
    "version": 3
   },
   "file_extension": ".py",
   "mimetype": "text/x-python",
   "name": "python",
   "nbconvert_exporter": "python",
   "pygments_lexer": "ipython3",
   "version": "3.7.3"
  }
 },
 "nbformat": 4,
 "nbformat_minor": 4
}
