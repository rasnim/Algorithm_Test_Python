{
 "cells": [
  {
   "cell_type": "markdown",
   "metadata": {},
   "source": [
    "![Alt text](graph.png)"
   ]
  },
  {
   "cell_type": "code",
   "execution_count": 1,
   "metadata": {},
   "outputs": [],
   "source": [
    "graph = {'A': set(['B', 'C']),\n",
    "         'B': set(['A', 'D', 'E']),\n",
    "         'C': set(['A', 'F']),\n",
    "         'D': set(['B']),\n",
    "         'E': set(['B', 'F']),\n",
    "         'F': set(['C', 'E'])}"
   ]
  },
  {
   "cell_type": "code",
   "execution_count": 2,
   "metadata": {},
   "outputs": [
    {
     "data": {
      "text/plain": [
       "{'A': {'B', 'C'},\n",
       " 'B': {'A', 'D', 'E'},\n",
       " 'C': {'A', 'F'},\n",
       " 'D': {'B'},\n",
       " 'E': {'B', 'F'},\n",
       " 'F': {'C', 'E'}}"
      ]
     },
     "execution_count": 2,
     "metadata": {},
     "output_type": "execute_result"
    }
   ],
   "source": [
    "graph"
   ]
  },
  {
   "cell_type": "code",
   "execution_count": 3,
   "metadata": {},
   "outputs": [
    {
     "data": {
      "text/plain": [
       "{'B', 'C'}"
      ]
     },
     "execution_count": 3,
     "metadata": {},
     "output_type": "execute_result"
    }
   ],
   "source": [
    "graph['A']"
   ]
  },
  {
   "cell_type": "code",
   "execution_count": 13,
   "metadata": {},
   "outputs": [],
   "source": [
    "def bfs(graph, start):\n",
    "    visited = []\n",
    "    queue = [start]\n",
    "    \n",
    "    print('initial visited', visited)\n",
    "    print('initial queue', queue)\n",
    "\n",
    "    while queue:\n",
    "        n = queue.pop(0)\n",
    "        print('n', n)\n",
    "        if n not in visited:\n",
    "            visited.append(n)\n",
    "            print('visited', visited)\n",
    "            print('graph[n]', graph[n])\n",
    "            print('set(visited)', set(visited))\n",
    "            queue += graph[n] - set(visited)\n",
    "            print('queue', queue)\n",
    "    return visited"
   ]
  },
  {
   "cell_type": "code",
   "execution_count": 14,
   "metadata": {},
   "outputs": [
    {
     "name": "stdout",
     "output_type": "stream",
     "text": [
      "initial visited []\n",
      "initial queue ['A']\n",
      "n A\n",
      "visited ['A']\n",
      "graph[n] {'B', 'C'}\n",
      "set(visited) {'A'}\n",
      "queue ['B', 'C']\n",
      "n B\n",
      "visited ['A', 'B']\n",
      "graph[n] {'A', 'E', 'D'}\n",
      "set(visited) {'A', 'B'}\n",
      "queue ['C', 'E', 'D']\n",
      "n C\n",
      "visited ['A', 'B', 'C']\n",
      "graph[n] {'A', 'F'}\n",
      "set(visited) {'A', 'B', 'C'}\n",
      "queue ['E', 'D', 'F']\n",
      "n E\n",
      "visited ['A', 'B', 'C', 'E']\n",
      "graph[n] {'B', 'F'}\n",
      "set(visited) {'A', 'E', 'B', 'C'}\n",
      "queue ['D', 'F', 'F']\n",
      "n D\n",
      "visited ['A', 'B', 'C', 'E', 'D']\n",
      "graph[n] {'B'}\n",
      "set(visited) {'E', 'A', 'B', 'C', 'D'}\n",
      "queue ['F', 'F']\n",
      "n F\n",
      "visited ['A', 'B', 'C', 'E', 'D', 'F']\n",
      "graph[n] {'C', 'E'}\n",
      "set(visited) {'E', 'A', 'B', 'C', 'F', 'D'}\n",
      "queue ['F']\n",
      "n F\n",
      "['A', 'B', 'C', 'E', 'D', 'F']\n"
     ]
    }
   ],
   "source": [
    "print(bfs(graph, 'A'))"
   ]
  },
  {
   "cell_type": "code",
   "execution_count": 11,
   "metadata": {},
   "outputs": [],
   "source": [
    "def bfs_paths(graph, start, goal):\n",
    "    queue = [(start, [start])]\n",
    "    result = []\n",
    "    \n",
    "    print('initial queue', queue)\n",
    "    print('initial result', result)\n",
    "\n",
    "    while queue:\n",
    "        n, path = queue.pop(0)\n",
    "        print('n', n)\n",
    "        print('path', path)\n",
    "        if n == goal:\n",
    "            result.append(path)\n",
    "        else:\n",
    "            for m in graph[n] - set(path):\n",
    "                queue.append((m, path + [m]))\n",
    "                print('queue', queue)\n",
    "    return result"
   ]
  },
  {
   "cell_type": "code",
   "execution_count": 12,
   "metadata": {},
   "outputs": [
    {
     "name": "stdout",
     "output_type": "stream",
     "text": [
      "initial queue [('A', ['A'])]\n",
      "initial result []\n",
      "n A\n",
      "path ['A']\n",
      "queue [('B', ['A', 'B'])]\n",
      "queue [('B', ['A', 'B']), ('C', ['A', 'C'])]\n",
      "n B\n",
      "path ['A', 'B']\n",
      "queue [('C', ['A', 'C']), ('E', ['A', 'B', 'E'])]\n",
      "queue [('C', ['A', 'C']), ('E', ['A', 'B', 'E']), ('D', ['A', 'B', 'D'])]\n",
      "n C\n",
      "path ['A', 'C']\n",
      "queue [('E', ['A', 'B', 'E']), ('D', ['A', 'B', 'D']), ('F', ['A', 'C', 'F'])]\n",
      "n E\n",
      "path ['A', 'B', 'E']\n",
      "queue [('D', ['A', 'B', 'D']), ('F', ['A', 'C', 'F']), ('F', ['A', 'B', 'E', 'F'])]\n",
      "n D\n",
      "path ['A', 'B', 'D']\n",
      "n F\n",
      "path ['A', 'C', 'F']\n",
      "n F\n",
      "path ['A', 'B', 'E', 'F']\n"
     ]
    },
    {
     "data": {
      "text/plain": [
       "[['A', 'C', 'F'], ['A', 'B', 'E', 'F']]"
      ]
     },
     "execution_count": 12,
     "metadata": {},
     "output_type": "execute_result"
    }
   ],
   "source": [
    "bfs_paths(graph, 'A', 'F')"
   ]
  },
  {
   "cell_type": "code",
   "execution_count": 8,
   "metadata": {},
   "outputs": [
    {
     "data": {
      "text/plain": [
       "[['D', 'B', 'E', 'F'], ['D', 'B', 'A', 'C', 'F']]"
      ]
     },
     "execution_count": 8,
     "metadata": {},
     "output_type": "execute_result"
    }
   ],
   "source": [
    "bfs_paths(graph, 'D', 'F')"
   ]
  }
 ],
 "metadata": {
  "kernelspec": {
   "display_name": "Python 3",
   "language": "python",
   "name": "python3"
  },
  "language_info": {
   "codemirror_mode": {
    "name": "ipython",
    "version": 3
   },
   "file_extension": ".py",
   "mimetype": "text/x-python",
   "name": "python",
   "nbconvert_exporter": "python",
   "pygments_lexer": "ipython3",
   "version": "3.7.3"
  }
 },
 "nbformat": 4,
 "nbformat_minor": 4
}
