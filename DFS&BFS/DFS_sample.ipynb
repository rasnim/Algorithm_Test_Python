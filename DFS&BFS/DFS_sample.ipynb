{
 "cells": [
  {
   "cell_type": "markdown",
   "metadata": {},
   "source": [
    "![Alt text](graph.png)"
   ]
  },
  {
   "cell_type": "code",
   "execution_count": 1,
   "metadata": {},
   "outputs": [],
   "source": [
    "graph = {'A': set(['B', 'C']),\n",
    "         'B': set(['A', 'D', 'E']),\n",
    "         'C': set(['A', 'F']),\n",
    "         'D': set(['B']),\n",
    "         'E': set(['B', 'F']),\n",
    "         'F': set(['C', 'E'])}"
   ]
  },
  {
   "cell_type": "code",
   "execution_count": 2,
   "metadata": {},
   "outputs": [],
   "source": [
    "def dfs(graph, start):\n",
    "    visited, stack = [], [start]\n",
    "    print('initial visited', visited)\n",
    "    print('initial stack', stack)\n",
    "    \n",
    "    while stack:\n",
    "        n = stack.pop()\n",
    "        print('n', n)\n",
    "        if n not in visited:\n",
    "            visited.append(n)\n",
    "            print('visited', visited)\n",
    "            print('graph[n]', graph[n])\n",
    "            print('set(visited)', set(visited))\n",
    "            stack += graph[n] - set(visited)\n",
    "            print('stack', stack)\n",
    "    return visited"
   ]
  },
  {
   "cell_type": "code",
   "execution_count": 3,
   "metadata": {},
   "outputs": [
    {
     "name": "stdout",
     "output_type": "stream",
     "text": [
      "initial visited []\n",
      "initial stack ['A']\n",
      "n A\n",
      "visited ['A']\n",
      "graph[n] {'B', 'C'}\n",
      "set(visited) {'A'}\n",
      "stack ['B', 'C']\n",
      "n C\n",
      "visited ['A', 'C']\n",
      "graph[n] {'F', 'A'}\n",
      "set(visited) {'A', 'C'}\n",
      "stack ['B', 'F']\n",
      "n F\n",
      "visited ['A', 'C', 'F']\n",
      "graph[n] {'E', 'C'}\n",
      "set(visited) {'F', 'A', 'C'}\n",
      "stack ['B', 'E']\n",
      "n E\n",
      "visited ['A', 'C', 'F', 'E']\n",
      "graph[n] {'F', 'B'}\n",
      "set(visited) {'F', 'E', 'A', 'C'}\n",
      "stack ['B', 'B']\n",
      "n B\n",
      "visited ['A', 'C', 'F', 'E', 'B']\n",
      "graph[n] {'E', 'A', 'D'}\n",
      "set(visited) {'F', 'C', 'A', 'E', 'B'}\n",
      "stack ['B', 'D']\n",
      "n D\n",
      "visited ['A', 'C', 'F', 'E', 'B', 'D']\n",
      "graph[n] {'B'}\n",
      "set(visited) {'F', 'C', 'A', 'D', 'E', 'B'}\n",
      "stack ['B']\n",
      "n B\n"
     ]
    },
    {
     "data": {
      "text/plain": [
       "['A', 'C', 'F', 'E', 'B', 'D']"
      ]
     },
     "execution_count": 3,
     "metadata": {},
     "output_type": "execute_result"
    }
   ],
   "source": [
    "dfs(graph, 'A')"
   ]
  },
  {
   "cell_type": "code",
   "execution_count": 4,
   "metadata": {},
   "outputs": [],
   "source": [
    "def dfs_path(graph, start, goal):\n",
    "    stack = [(start, [start])]\n",
    "    result = []\n",
    "    \n",
    "    print('initial stack', stack)\n",
    "    print('initial result', result)\n",
    "    \n",
    "    while stack:\n",
    "        n, path = stack.pop()\n",
    "        print('n', n)\n",
    "        print('path', path)\n",
    "        if n == goal:\n",
    "            result.append(path)\n",
    "        else:\n",
    "            for m in graph[n] - set(path):\n",
    "                stack.append((m, path + [m]))\n",
    "                print('stack', stack)\n",
    "    return result"
   ]
  },
  {
   "cell_type": "code",
   "execution_count": 5,
   "metadata": {},
   "outputs": [
    {
     "name": "stdout",
     "output_type": "stream",
     "text": [
      "initial stack [('A', ['A'])]\n",
      "initial result []\n",
      "n A\n",
      "path ['A']\n",
      "stack [('B', ['A', 'B'])]\n",
      "stack [('B', ['A', 'B']), ('C', ['A', 'C'])]\n",
      "n C\n",
      "path ['A', 'C']\n",
      "stack [('B', ['A', 'B']), ('F', ['A', 'C', 'F'])]\n",
      "n F\n",
      "path ['A', 'C', 'F']\n",
      "n B\n",
      "path ['A', 'B']\n",
      "stack [('E', ['A', 'B', 'E'])]\n",
      "stack [('E', ['A', 'B', 'E']), ('D', ['A', 'B', 'D'])]\n",
      "n D\n",
      "path ['A', 'B', 'D']\n",
      "n E\n",
      "path ['A', 'B', 'E']\n",
      "stack [('F', ['A', 'B', 'E', 'F'])]\n",
      "n F\n",
      "path ['A', 'B', 'E', 'F']\n"
     ]
    },
    {
     "data": {
      "text/plain": [
       "[['A', 'C', 'F'], ['A', 'B', 'E', 'F']]"
      ]
     },
     "execution_count": 5,
     "metadata": {},
     "output_type": "execute_result"
    }
   ],
   "source": [
    "dfs_path(graph, 'A', 'F')"
   ]
  }
 ],
 "metadata": {
  "kernelspec": {
   "display_name": "Python 3",
   "language": "python",
   "name": "python3"
  },
  "language_info": {
   "codemirror_mode": {
    "name": "ipython",
    "version": 3
   },
   "file_extension": ".py",
   "mimetype": "text/x-python",
   "name": "python",
   "nbconvert_exporter": "python",
   "pygments_lexer": "ipython3",
   "version": "3.7.3"
  }
 },
 "nbformat": 4,
 "nbformat_minor": 4
}
